{
 "cells": [
  {
   "cell_type": "markdown",
   "metadata": {},
   "source": [
    "# 1. Preparation of the dataset"
   ]
  },
  {
   "cell_type": "markdown",
   "metadata": {},
   "source": [
    "Getting an extended dataset:\n",
    "\n",
    "1. Get new data from https://www.bluebikes.com/system-data\n",
    "2. Download the trip zip files for each month of 2019\n",
    "3. Append them in one dataframe\n",
    "4. Download current station data from website\n",
    "\n",
    "All datasets used are provided."
   ]
  },
  {
   "cell_type": "markdown",
   "metadata": {},
   "source": [
    "## Libraries\n",
    "Import the required libraries for later use."
   ]
  },
  {
   "cell_type": "code",
   "execution_count": 12,
   "metadata": {},
   "outputs": [],
   "source": [
    "\n",
    "\n",
    "import pandas as pd\n",
    "import tensorflow as tf\n",
    "from tensorflow.keras.layers import Dense, LSTM\n",
    "import math\n",
    "import time\n",
    "import operator\n",
    "from datetime import datetime, timedelta\n",
    "import numpy as np\n",
    "import requests\n",
    "import urllib.parse\n",
    "import json\n",
    "import matplotlib as mpl\n",
    "import matplotlib.pyplot as plt\n",
    "import seaborn as sns\n",
    "from bokeh.io import output_notebook, show\n",
    "from bokeh.plotting import gmap\n",
    "from bokeh.models import GMapOptions, ColumnDataSource, HoverTool, CategoricalColorMapper\n",
    "from bokeh.palettes import Blues8, Oranges8\n",
    "\n",
    "# For Google Maps script\n",
    "import json\n",
    "import urllib\n",
    "import requests\n",
    "\n",
    "#Machine Learning\n",
    "import scipy as sp\n",
    "from sklearn.model_selection import train_test_split\n",
    "from sklearn.preprocessing import StandardScaler, PolynomialFeatures, MinMaxScaler, LabelEncoder\n",
    "from statsmodels.tsa.arima.model import ARIMA\n",
    "from statsmodels.tsa.seasonal import seasonal_decompose\n",
    "from statsmodels.tsa.stattools import acf, pacf\n",
    "from sklearn.metrics import mean_squared_error, mean_absolute_error, r2_score\n",
    "from sklearn.cluster import KMeans\n",
    "from sklearn.decomposition import PCA\n",
    "\n",
    "from sklearn.model_selection import cross_val_score\n",
    "from sklearn.model_selection import KFold\n",
    "from sklearn.pipeline import Pipeline"
   ]
  },
  {
   "cell_type": "markdown",
   "metadata": {},
   "source": [
    "## Meta settings"
   ]
  },
  {
   "cell_type": "code",
   "execution_count": 13,
   "metadata": {},
   "outputs": [],
   "source": [
    "# For Google Maps script\n",
    "API_KEY = ''\n",
    "GOOGLE_MAPS_DATA_FILE = \"./datasets/google_api_data.json\"\n",
    "\n",
    "# Data provided\n",
    "TRIP_DATA_PATH = './datasets/boston_2019.csv'\n",
    "WEATHER_DATA_PATH = './datasets/weather_hourly_boston.csv'\n",
    "\n",
    "# Station data from Blue Bikes website\n",
    "STATION_DATA_PATH = './datasets/current_bluebikes_stations.csv'\n",
    "\n",
    "# Load all csv for the different months in 2019 from Boston Bikes System Data\n",
    "TRIP_DATA_WEBSITE_JANUARY = './datasets/csv/201901-bluebikes-tripdata.csv'\n",
    "TRIP_DATA_WEBSITE_FEBRUARY = './datasets/csv/201902-bluebikes-tripdata.csv'\n",
    "TRIP_DATA_WEBSITE_MARCH = './datasets/csv/201903-bluebikes-tripdata.csv'\n",
    "TRIP_DATA_WEBSITE_APRIL = './datasets/csv/201904-bluebikes-tripdata.csv'\n",
    "TRIP_DATA_WEBSITE_MAY = './datasets/csv/201905-bluebikes-tripdata.csv'\n",
    "TRIP_DATA_WEBSITE_JUNE = './datasets/csv/201906-bluebikes-tripdata.csv'\n",
    "TRIP_DATA_WEBSITE_JULY = './datasets/csv/201907-bluebikes-tripdata.csv'\n",
    "TRIP_DATA_WEBSITE_AUGUST = './datasets/csv/201908-bluebikes-tripdata.csv'\n",
    "TRIP_DATA_WEBSITE_SEPTEMBER = './datasets/csv/201909-bluebikes-tripdata.csv'\n",
    "TRIP_DATA_WEBSITE_OCTOBER = './datasets/csv/201910-bluebikes-tripdata.csv'\n",
    "TRIP_DATA_WEBSITE_NOVEMBER = './datasets/csv//201911-bluebikes-tripdata.csv'\n",
    "TRIP_DATA_WEBSITE_DECEMBER = './datasets/csv/201912-bluebikes-tripdata.csv'\n",
    "\n",
    "\n",
    "# Assign datatypes for each dataframe\n",
    "TRIP_DTYPES = {\n",
    "    'start_time': 'datetime64',\n",
    "    'end_time': 'datetime64',\n",
    "    'start_station_id': 'int64',\n",
    "    'end_station_id': 'int',\n",
    "    'start_station_name': 'str',\n",
    "    'end_station_name': 'str',\n",
    "    'bike_id': 'int64',\n",
    "    'user_type': 'str',\n",
    "}\n",
    "\n",
    "TRIP_WEBSITE_DTYPES = {\n",
    "    'trip_duration': 'int64',\n",
    "    'start_time': 'datetime64',\n",
    "    'stop_time': 'datetime64',\n",
    "    'start_station_id': 'int64',\n",
    "    'start_station_name': 'str',\n",
    "    'start_station_lat': 'float64',\n",
    "    'start_station_lng': 'float64',\n",
    "    'end_station_id': 'int',\n",
    "    'end_station_name': 'str',\n",
    "    'end_station_lat': 'float64',\n",
    "    'end_station_lng': 'float64',\n",
    "    'bike_id': 'int64',\n",
    "    'user_type': 'str',\n",
    "    'birth_year': 'int64',\n",
    "    'gender': 'int64',\n",
    "    'user_type_id': 'int64'\n",
    "}\n",
    "\n",
    "WEATHER_DTYPES = {\n",
    "    'max_temp': 'float64',\n",
    "    'min_temp': 'float64',\n",
    "    'precip': 'int64'\n",
    "}\n",
    "\n",
    "STATION_DTYPES = {\n",
    "    'station_id_string': 'str',\n",
    "    'station_name': 'str',\n",
    "    'station_lat': 'float64',\n",
    "    'station_lng': 'float64',\n",
    "    'district': 'str',\n",
    "    'total_docks': 'int64',\n",
    "    'deployment_year': 'int64',\n",
    "    'station_id': 'int64',\n",
    "    'public': 'str',\n",
    "    'station_id': 'int64'\n",
    "}\n"
   ]
  },
  {
   "cell_type": "markdown",
   "metadata": {},
   "source": [
    "## Loading the data\n",
    "Here we load the data into our notebook. \n",
    "\n",
    "We haves 3 types of data:\n",
    "\n",
    "1. Trip_data: data on individual trips, each represented by one record, such as time or station info\n",
    "2. Weather_data: data on temperature and rain for each hour\n",
    "3. Station_data: data for each station (e.g. number of docks or deployment year)"
   ]
  },
  {
   "cell_type": "code",
   "execution_count": 14,
   "metadata": {},
   "outputs": [],
   "source": [
    "# Read all  provided csv data for trips, weather and stations into dataframes\n",
    "trip_data = pd.read_csv(TRIP_DATA_PATH)\n",
    "weather_data = pd.read_csv(WEATHER_DATA_PATH)\n"
   ]
  },
  {
   "cell_type": "markdown",
   "metadata": {},
   "source": [
    "We also use station data from the Boston Bikes website, as it contains more information about each station that may be useful later, such as the number of docks or the year of deployment."
   ]
  },
  {
   "cell_type": "code",
   "execution_count": 15,
   "metadata": {},
   "outputs": [],
   "source": [
    "# Read all the stations csv data from the Blue Bikes website\n",
    "station_data = pd.read_csv(STATION_DATA_PATH)"
   ]
  },
  {
   "cell_type": "markdown",
   "metadata": {},
   "source": [
    "We use the trip data from the Boston Bikes website because it contains slightly more information about each trip, such as gender or year of birth.\n",
    "\n",
    "We load the trip data for each month and then concat them into one dataframe."
   ]
  },
  {
   "cell_type": "code",
   "execution_count": 16,
   "metadata": {},
   "outputs": [],
   "source": [
    "# Read all csv trip data for each month into dataframes\n",
    "trip_data_website_january = pd.read_csv(TRIP_DATA_WEBSITE_JANUARY)\n",
    "trip_data_website_february = pd.read_csv(TRIP_DATA_WEBSITE_FEBRUARY)\n",
    "trip_data_website_march = pd.read_csv(TRIP_DATA_WEBSITE_MARCH)\n",
    "trip_data_website_april = pd.read_csv(TRIP_DATA_WEBSITE_APRIL)\n",
    "trip_data_website_may = pd.read_csv(TRIP_DATA_WEBSITE_MAY)\n",
    "trip_data_website_june = pd.read_csv(TRIP_DATA_WEBSITE_JUNE)\n",
    "trip_data_website_july = pd.read_csv(TRIP_DATA_WEBSITE_JULY)\n",
    "trip_data_website_august = pd.read_csv(TRIP_DATA_WEBSITE_AUGUST)\n",
    "trip_data_website_september = pd.read_csv(TRIP_DATA_WEBSITE_SEPTEMBER)\n",
    "trip_data_website_october = pd.read_csv(TRIP_DATA_WEBSITE_OCTOBER)\n",
    "trip_data_website_november = pd.read_csv(TRIP_DATA_WEBSITE_NOVEMBER)\n",
    "trip_data_website_december = pd.read_csv(TRIP_DATA_WEBSITE_DECEMBER)"
   ]
  },
  {
   "cell_type": "code",
   "execution_count": 17,
   "metadata": {},
   "outputs": [],
   "source": [
    "# Concat datasets for each month from website into one dataframe\n",
    "trip_data_website = pd.concat([trip_data_website_january, trip_data_website_february, trip_data_website_march, trip_data_website_april, trip_data_website_june, trip_data_website_july, trip_data_website_august, trip_data_website_september, trip_data_website_october, trip_data_website_november, trip_data_website_december], ignore_index=True)"
   ]
  },
  {
   "cell_type": "markdown",
   "metadata": {},
   "source": [
    "## Modify the data\n",
    "### Trip data\n",
    "First, we rename the columns of the trip data from the website to appropriate names. Since there are only two types of users (subscribers and customers), we binarize them into their own column. This will make clustering easier later. Finally, we assign the dtypes."
   ]
  },
  {
   "cell_type": "code",
   "execution_count": 18,
   "metadata": {},
   "outputs": [
    {
     "name": "stdout",
     "output_type": "stream",
     "text": [
      "['Subscriber' 'Customer']\n"
     ]
    }
   ],
   "source": [
    "# Rename headers of website trip data\n",
    "trip_data_website = trip_data_website.rename(columns={'tripduration':'trip_duration', 'starttime':'start_time', 'stoptime':'stop_time', 'start station id':'start_station_id', 'start station name':'start_station_name', 'start station latitude':'start_station_lat', 'start station longitude':'start_station_lng', 'end station id':'end_station_id', 'end station name':'end_station_name', 'end station latitude':'end_station_lat', 'end station longitude':'end_station_lng', 'bikeid':'bike_id', 'usertype':'user_type', 'birth year':'birth_year', 'gender':'gender'})\n",
    "\n",
    "# Binarize the user type into own column (Subscriber = 1, Customer = 0) for both trip_data and trip_data_website\n",
    "print(trip_data_website['user_type'].unique())\n",
    "trip_data_website['user_type_id'] = trip_data_website.apply(lambda row: 1 if row.user_type == 'Subscriber' else 0, axis=1)"
   ]
  },
  {
   "cell_type": "code",
   "execution_count": 19,
   "metadata": {},
   "outputs": [],
   "source": [
    "# Assign dtype to trip data website\n",
    "trip_data_website = trip_data_website.astype(TRIP_WEBSITE_DTYPES)"
   ]
  },
  {
   "cell_type": "markdown",
   "metadata": {},
   "source": [
    "### Weather data\n",
    "The weather data provided ranges from 2015 to 2022. Here we only need the data for 2019, so we filter the data by year and sort it by date."
   ]
  },
  {
   "cell_type": "code",
   "execution_count": 26,
   "metadata": {},
   "outputs": [],
   "source": [
    "# Set date_time to pandas datetime\n",
    "weather_data['date_time'] = pd.to_datetime(weather_data['date_time'])"
   ]
  },
  {
   "cell_type": "code",
   "execution_count": 21,
   "metadata": {},
   "outputs": [],
   "source": [
    "# Filter weather data for 2019\n",
    "weather_data = weather_data[weather_data['date_time']<pd.to_datetime('2020-01-01 00:00:00')]\n",
    "weather_data = weather_data[weather_data['date_time']>=pd.to_datetime('2019-01-01 00:00:00')]\n",
    "\n",
    "# Sort weather data by date\n",
    "weather_data = weather_data.sort_values(by='date_time')"
   ]
  },
  {
   "cell_type": "markdown",
   "metadata": {},
   "source": [
    "For the weather data, we had to make some assumptions on how to interpret the data.\n",
    "\n",
    "**Assumption 1**: For the duplicates, we assume that the weather changes throughout the hour. However, since we have no information on which part of the hour the weather changes, we take the first record of each duplicate.\n",
    "\n",
    "**Assumption 2**: The time at which the ride begins is critical to the weather, since this is when the client decides to use the bike.\n",
    "\n",
    "**Assumption 3**: Since some hours are missing in weather_data, we assume that the weather has not changed during this time. Therefore, we will fill these hours with the previous weather conditions. "
   ]
  },
  {
   "cell_type": "code",
   "execution_count": 22,
   "metadata": {},
   "outputs": [],
   "source": [
    "# Drop duplicates and keep first record\n",
    "weather_data = weather_data.drop_duplicates(subset='date_time', keep='first')\n",
    "\n",
    "# Generate all hours for 2019 and merge with weather data\n",
    "hours_2019 = pd.DataFrame(pd.date_range(pd.to_datetime('2019-01-01 00:00:00'), pd.to_datetime('2019-12-31 23:00:00'), freq='H'), columns=['date_time'])\n",
    "weather_all_hours = pd.merge(how='outer', left=weather_data, right=hours_2019, on='date_time').sort_values(by='date_time').reset_index(drop=True)\n",
    "\n",
    "# Set date_time as index for dataframe\n",
    "weather_all_hours = weather_all_hours.set_index('date_time')\n",
    "\n",
    "# Fill missing values with forward fill and dtypes with backward fill\n",
    "weather_all_hours = weather_all_hours.fillna(method='ffill')\n",
    "weather_all_hours = weather_all_hours.fillna(method='bfill').astype(WEATHER_DTYPES)"
   ]
  },
  {
   "cell_type": "markdown",
   "metadata": {},
   "source": [
    "Lastly, we will merge the weather data into the trip data, so each trip has the weather associated with it."
   ]
  },
  {
   "cell_type": "code",
   "execution_count": 23,
   "metadata": {},
   "outputs": [],
   "source": [
    "trip_data_website = pd.merge_asof(trip_data_website.sort_values('start_time'), weather_all_hours.sort_index(), left_on='start_time', right_index=True, direction='backward')"
   ]
  },
  {
   "cell_type": "code",
   "execution_count": 24,
   "metadata": {},
   "outputs": [
    {
     "data": {
      "text/html": [
       "<div>\n",
       "<style scoped>\n",
       "    .dataframe tbody tr th:only-of-type {\n",
       "        vertical-align: middle;\n",
       "    }\n",
       "\n",
       "    .dataframe tbody tr th {\n",
       "        vertical-align: top;\n",
       "    }\n",
       "\n",
       "    .dataframe thead th {\n",
       "        text-align: right;\n",
       "    }\n",
       "</style>\n",
       "<table border=\"1\" class=\"dataframe\">\n",
       "  <thead>\n",
       "    <tr style=\"text-align: right;\">\n",
       "      <th></th>\n",
       "      <th>trip_duration</th>\n",
       "      <th>start_time</th>\n",
       "      <th>stop_time</th>\n",
       "      <th>start_station_id</th>\n",
       "      <th>start_station_name</th>\n",
       "      <th>start_station_lat</th>\n",
       "      <th>start_station_lng</th>\n",
       "      <th>end_station_id</th>\n",
       "      <th>end_station_name</th>\n",
       "      <th>end_station_lat</th>\n",
       "      <th>end_station_lng</th>\n",
       "      <th>bike_id</th>\n",
       "      <th>user_type</th>\n",
       "      <th>birth_year</th>\n",
       "      <th>gender</th>\n",
       "      <th>user_type_id</th>\n",
       "      <th>max_temp</th>\n",
       "      <th>min_temp</th>\n",
       "      <th>precip</th>\n",
       "    </tr>\n",
       "  </thead>\n",
       "  <tbody>\n",
       "    <tr>\n",
       "      <th>0</th>\n",
       "      <td>371</td>\n",
       "      <td>2019-01-01 00:09:13.798</td>\n",
       "      <td>2019-01-01 00:15:25.336</td>\n",
       "      <td>80</td>\n",
       "      <td>MIT Stata Center at Vassar St / Main St</td>\n",
       "      <td>42.362131</td>\n",
       "      <td>-71.091156</td>\n",
       "      <td>179</td>\n",
       "      <td>MIT Vassar St</td>\n",
       "      <td>42.355601</td>\n",
       "      <td>-71.103945</td>\n",
       "      <td>3689</td>\n",
       "      <td>Subscriber</td>\n",
       "      <td>1987</td>\n",
       "      <td>1</td>\n",
       "      <td>1</td>\n",
       "      <td>5.6</td>\n",
       "      <td>5.6</td>\n",
       "      <td>1</td>\n",
       "    </tr>\n",
       "  </tbody>\n",
       "</table>\n",
       "</div>"
      ],
      "text/plain": [
       "   trip_duration              start_time               stop_time  \\\n",
       "0            371 2019-01-01 00:09:13.798 2019-01-01 00:15:25.336   \n",
       "\n",
       "   start_station_id                       start_station_name  \\\n",
       "0                80  MIT Stata Center at Vassar St / Main St   \n",
       "\n",
       "   start_station_lat  start_station_lng  end_station_id end_station_name  \\\n",
       "0          42.362131         -71.091156             179    MIT Vassar St   \n",
       "\n",
       "   end_station_lat  end_station_lng  bike_id   user_type  birth_year  gender  \\\n",
       "0        42.355601       -71.103945     3689  Subscriber        1987       1   \n",
       "\n",
       "   user_type_id  max_temp  min_temp  precip  \n",
       "0             1       5.6       5.6       1  "
      ]
     },
     "execution_count": 24,
     "metadata": {},
     "output_type": "execute_result"
    }
   ],
   "source": [
    "trip_data_website.head(1)"
   ]
  },
  {
   "cell_type": "markdown",
   "metadata": {},
   "source": [
    "### Station data\n",
    "We can see that the header of station_data is not yet correct, the right values are in the first row. Therefore,  we need to set the first row as the header, delete the first record and reset the index. Then we will rename the columns to better fitting names."
   ]
  },
  {
   "cell_type": "code",
   "execution_count": null,
   "metadata": {},
   "outputs": [],
   "source": [
    "station_data.head(2)"
   ]
  },
  {
   "cell_type": "code",
   "execution_count": null,
   "metadata": {},
   "outputs": [],
   "source": [
    "# Set header to first row values\n",
    "station_data.columns = station_data.iloc[0]\n",
    "\n",
    "# Remove first row by slicing\n",
    "station_data = station_data[1:]\n"
   ]
  },
  {
   "cell_type": "code",
   "execution_count": null,
   "metadata": {},
   "outputs": [],
   "source": [
    "# Reset index\n",
    "station_data.reset_index(drop=True, inplace=True)"
   ]
  },
  {
   "cell_type": "code",
   "execution_count": null,
   "metadata": {},
   "outputs": [],
   "source": [
    "# Rename headers\n",
    "station_data = station_data.rename(columns={'Number': 'station_id_string', 'Name': 'station_name', 'District': 'district', 'Total docks': 'total_docks', 'Deployment Year': 'deployment_year', 'Public': 'public', 'Latitude':'station_lat', 'Longitude':'station_lng'})"
   ]
  },
  {
   "cell_type": "code",
   "execution_count": null,
   "metadata": {},
   "outputs": [],
   "source": [
    "station_data.head(1)"
   ]
  },
  {
   "cell_type": "markdown",
   "metadata": {},
   "source": [
    "Now we check the station data for missing values."
   ]
  },
  {
   "cell_type": "code",
   "execution_count": null,
   "metadata": {},
   "outputs": [],
   "source": [
    "# Check for NaN in station_data\n",
    "station_data[station_data.isnull().any(axis=1)]"
   ]
  },
  {
   "cell_type": "code",
   "execution_count": null,
   "metadata": {},
   "outputs": [],
   "source": [
    "# Check for NaN in each column\n",
    "print('There are ' + str(station_data.isnull().sum().sum()) + ' missing values in total.')\n",
    "print('There are ' + str(station_data['station_id_string'].isnull().sum()) + ' missing values in station id string.')\n",
    "print('There are ' + str(station_data['station_name'].isnull().sum()) + ' missing values in station name.')\n",
    "print('There are ' + str(station_data['station_lat'].isnull().sum()) + ' missing values in station lat.')\n",
    "print('There are ' + str(station_data['station_lng'].isnull().sum()) + ' missing values in station lng.')\n",
    "print('There are ' + str(station_data['district'].isnull().sum()) + ' missing values in district.')\n",
    "print('There are ' + str(station_data['public'].isnull().sum()) + ' missing values in public.')\n",
    "print('There are ' + str(station_data['total_docks'].isnull().sum()) + ' missing values in total docks.')\n",
    "print('There are ' + str(station_data['deployment_year'].isnull().sum()) + ' missing values in deployment year.')"
   ]
  },
  {
   "cell_type": "markdown",
   "metadata": {},
   "source": [
    "We can see that there are 9 missing values in total. \n",
    "\n",
    "Four of them in the district column. Therefore, we check where they appear and fill them with the correct value after a manual Google Maps search.\n",
    "\n"
   ]
  },
  {
   "cell_type": "code",
   "execution_count": null,
   "metadata": {},
   "outputs": [],
   "source": [
    "# Fill missing values with the correct district\n",
    "station_data.loc[7].district='Somerville'\n",
    "station_data.loc[236].district='Cambridge'\n",
    "station_data.loc[262].district='Malden'\n",
    "station_data.loc[302].district='Salem'"
   ]
  },
  {
   "cell_type": "code",
   "execution_count": null,
   "metadata": {},
   "outputs": [],
   "source": [
    "# Check district NaN\n",
    "print('There are ' + str(station_data['district'].isnull().sum()) + ' missing values in district.')"
   ]
  },
  {
   "cell_type": "markdown",
   "metadata": {},
   "source": [
    "For the deployment year, we can see that 3 of the 5 stations have a \"Temp Winter Station\" in their name. We assume that they are only used in winter each year and therefore have the current year as their year of deployment - in this case 2022."
   ]
  },
  {
   "cell_type": "code",
   "execution_count": null,
   "metadata": {},
   "outputs": [],
   "source": [
    "# Fill missing deployment years\n",
    "station_data.loc[7].deployment_year=2022\n",
    "station_data.loc[83].deployment_year=2022\n",
    "station_data.loc[401].deployment_year=2022"
   ]
  },
  {
   "cell_type": "code",
   "execution_count": null,
   "metadata": {},
   "outputs": [],
   "source": [
    "# Check deployment NaN\n",
    "print('There are ' + str(station_data['deployment_year'].isnull().sum()) + ' missing values in deployment year.')"
   ]
  },
  {
   "cell_type": "markdown",
   "metadata": {},
   "source": [
    "For the missing 2 values, we have no indication of when the year of deployment was. After searching the trip data for 'Boylston St at Charles St' and 'John Ahern Field at Kennedy-Longfellow School', we can see that there are no trips associated with either station."
   ]
  },
  {
   "cell_type": "code",
   "execution_count": null,
   "metadata": {},
   "outputs": [],
   "source": [
    "# For both stations there are no results for the starting and ending station\n",
    "print(trip_data_website[trip_data_website['start_station_name'].str.contains('Boylston St at Charles St')])\n",
    "print(trip_data_website[trip_data_website['end_station_name'].str.contains('Boylston St at Charles St')])\n",
    "print(trip_data_website[trip_data_website['start_station_name'].str.contains('John Ahern Field at Kennedy-Longfellow School')])\n",
    "print(trip_data_website[trip_data_website['end_station_name'].str.contains('John Ahern Field at Kennedy-Longfellow School')])"
   ]
  },
  {
   "cell_type": "markdown",
   "metadata": {},
   "source": [
    "Therefore, we delete both stations from station_data and reset the index."
   ]
  },
  {
   "cell_type": "code",
   "execution_count": null,
   "metadata": {},
   "outputs": [],
   "source": [
    "# Drop Boylston St at Charles St (index=65) from station_data\n",
    "station_data = station_data.drop([65])\n",
    "\n",
    "# Drop John Ahern Field at Kennedy-Longfellow School (index=236) from station_data\n",
    "station_data = station_data.drop([236])\n",
    "\n",
    "# Reset index\n",
    "station_data.reset_index(drop=True, inplace=True)"
   ]
  },
  {
   "cell_type": "markdown",
   "metadata": {},
   "source": [
    "As shown below, there are now no missing values."
   ]
  },
  {
   "cell_type": "code",
   "execution_count": null,
   "metadata": {},
   "outputs": [],
   "source": [
    "# Check for NaN\n",
    "station_data[station_data.isnull().any(axis=1)]"
   ]
  },
  {
   "cell_type": "markdown",
   "metadata": {},
   "source": [
    "We can see that there are more stations in station_data than stations are appearing in trip_data. Therefore, we extract the stations from trip_data and merge them with the information available in the station data."
   ]
  },
  {
   "cell_type": "code",
   "execution_count": null,
   "metadata": {},
   "outputs": [],
   "source": [
    "# Check amount of stations in station_data and trip_data\n",
    "print('There are ' + str(len(station_data['station_name'].unique())) + ' stations in the station data.')\n",
    "print('There are ' + str(len(trip_data_website['start_station_id'].unique())) + ' start stations in trip data.')\n",
    "print('There are ' + str(len(trip_data_website['end_station_id'].unique())) + ' end stations in trip data.')"
   ]
  },
  {
   "cell_type": "code",
   "execution_count": null,
   "metadata": {},
   "outputs": [],
   "source": [
    "# Get all unique start and end stations\n",
    "start_stations = trip_data_website.drop_duplicates(subset=\"start_station_id\", keep=\"first\")[[\"start_station_id\",\"start_station_name\", \"start_station_lat\", \"start_station_lng\"]].sort_values(by=\"start_station_id\").reset_index(drop=True)\n",
    "end_stations = trip_data_website.drop_duplicates(subset=\"end_station_id\", keep=\"first\")[[\"end_station_id\",\"end_station_name\", \"end_station_lat\", \"end_station_lng\"]].sort_values(by=\"end_station_id\").reset_index(drop=True)\n",
    "\n",
    "# Merge all unique start and end stations into one dataframe\n",
    "all_stations = start_stations.merge(end_stations, left_on='start_station_id', right_on=\"end_station_id\", how='outer', suffixes=['', '_'], indicator=True)"
   ]
  },
  {
   "cell_type": "code",
   "execution_count": null,
   "metadata": {},
   "outputs": [],
   "source": [
    "# Check for NaN in all_stations\n",
    "all_stations[all_stations.isnull().any(axis=1)]"
   ]
  },
  {
   "cell_type": "markdown",
   "metadata": {},
   "source": [
    "We can see that there are 5 stations with missing values - 2 start stations and 3 end stations. \n",
    "\n",
    "This means that the first two stations **only** appear as start stations and **never** appear as end stations, and the last 3 stations **only** appear as end stations and **never** appear as start stations, which explains the results above.\n",
    "\n",
    "The samples where no values for latitude and longitude are given are problematic, here ***MTL-ECO5.1-01*** (start), ***8D QC Station 02*** (end) and ***MTL-ECO4-01*** (end).\n",
    "\n",
    "We will now check in which of the trips the stations occur."
   ]
  },
  {
   "cell_type": "code",
   "execution_count": null,
   "metadata": {},
   "outputs": [],
   "source": [
    "# # Check all trips for starting station: MTL-ECO5.1-01\n",
    "# for index, row in trip_data_website.iterrows():\n",
    "#     if 'MTL-ECO5.1-01' in row['start_station_name']:\n",
    "#         print(index, row['start_station_name'], row['end_station_name'])"
   ]
  },
  {
   "cell_type": "code",
   "execution_count": null,
   "metadata": {},
   "outputs": [],
   "source": [
    "# # Check all trips for ending station: 8D QC Station 02\n",
    "# for index, row in trip_data_website.iterrows():\n",
    "#     if '8D QC Station 02' in row['end_station_name']:\n",
    "#         print(index, row['start_station_name'], row['end_station_name'])"
   ]
  },
  {
   "cell_type": "code",
   "execution_count": null,
   "metadata": {},
   "outputs": [],
   "source": [
    "# # Check all trips for ending station: MTL-ECO4-01\n",
    "# for index, row in trip_data_website.iterrows():\n",
    "#     if 'MTL-ECO4-01' in row['end_station_name']:\n",
    "#         print(index, row['start_station_name'], row['end_station_name'])"
   ]
  },
  {
   "cell_type": "markdown",
   "metadata": {},
   "source": [
    "For ***MTL-ECO5.1-01*** (start) and ***MTL-ECO4-01*** (end) there is one trip with the ID ***994366***. \n",
    "For ***8D QC Station 02*** (end) there is a trip from ***8D QC Station 01*** (start) with the ID ***50153***.\n",
    "\n",
    "We can also check with the stations dataset which of the stations above are appearing. We can neither find ***8D QC Station 02*** nor ***MTL-ECO4-01***. We can find ***MTL-ECO5.1-01*** and ***8D QC Station 01*** as listed stations.\n",
    "\n",
    "For ***8D QC Station 01*** we have latitude and longitude values, but if there is only one occurrence in trip_data, it is not so important, so we check it as well."
   ]
  },
  {
   "cell_type": "code",
   "execution_count": null,
   "metadata": {},
   "outputs": [],
   "source": [
    "# # Check all trips for starting station: 8D QC Station 01\n",
    "# for index, row in trip_data_website.iterrows():\n",
    "#     if '8D QC Station 01' in row['start_station_name']:\n",
    "#         print(index, row['start_station_name'], row['end_station_name'])"
   ]
  },
  {
   "cell_type": "markdown",
   "metadata": {},
   "source": [
    "Since there is only one trip associated with each of the stations (***8D QC Station 01***, ***8D QC Station 02***, ***MTL-ECO5.1-01***, and ***MTL-ECO4-01***), they do not seem important to the scope of the task. Therefore, the trips are deleted from the trip data.\n",
    "\n"
   ]
  },
  {
   "cell_type": "code",
   "execution_count": null,
   "metadata": {},
   "outputs": [],
   "source": [
    "# Drop trips by id \n",
    "trip_data_website = trip_data_website.drop([50153])\n",
    "trip_data_website = trip_data_website.drop([994366])\n",
    "\n",
    "# Reset index\n",
    "trip_data_website.reset_index(drop=True, inplace=True)\n"
   ]
  },
  {
   "cell_type": "markdown",
   "metadata": {},
   "source": [
    "Next, we remove the stations listed above from the all_stations dataframe."
   ]
  },
  {
   "cell_type": "code",
   "execution_count": null,
   "metadata": {},
   "outputs": [],
   "source": [
    "# Drop stations by id (8D QC Station 01 id=202, MTL-ECO5.1-01 id=278, 8D QC Station 02 id=339, MTL-ECO4-01 id=340)\n",
    "all_stations = all_stations.drop([202])\n",
    "all_stations = all_stations.drop([278])\n",
    "all_stations = all_stations.drop([339])\n",
    "all_stations = all_stations.drop([340])\n",
    "\n",
    "# Reset index\n",
    "all_stations.reset_index(drop=True, inplace=True)"
   ]
  },
  {
   "cell_type": "code",
   "execution_count": null,
   "metadata": {},
   "outputs": [],
   "source": [
    "# Check for NaN\n",
    "all_stations[all_stations.isnull().any(axis=1)]"
   ]
  },
  {
   "cell_type": "markdown",
   "metadata": {},
   "source": [
    "As there is one more end station than start station, we will use the end stations as the basis for our station data. \n",
    "\n",
    "We can omit the columns *start_station_id*, *start_station_name*, *start_station_lat* and *start_station_lng* because they provide the same information as the end station values. Then we rename the columns to appropriate names."
   ]
  },
  {
   "cell_type": "code",
   "execution_count": null,
   "metadata": {},
   "outputs": [],
   "source": [
    "#  We will drop the columns start_station_id, start_station_name, start_station_lat, start_station_lng as they are not needed\n",
    "all_stations = all_stations.drop(['start_station_id', 'start_station_name', 'start_station_lat', 'start_station_lng', '_merge' ], axis=1)"
   ]
  },
  {
   "cell_type": "code",
   "execution_count": null,
   "metadata": {},
   "outputs": [],
   "source": [
    "# Rename columns\n",
    "all_stations = all_stations.rename(columns={'end_station_id': 'station_id', 'end_station_name': 'station_name', 'end_station_lat': 'station_lat', 'end_station_lng': 'station_lng'})"
   ]
  },
  {
   "cell_type": "code",
   "execution_count": null,
   "metadata": {},
   "outputs": [],
   "source": [
    "all_stations.head(1)"
   ]
  },
  {
   "cell_type": "markdown",
   "metadata": {},
   "source": [
    "Next, all the stations that show up in the trip data are merged into a new dataframe with the additional information we have about each station."
   ]
  },
  {
   "cell_type": "code",
   "execution_count": null,
   "metadata": {},
   "outputs": [],
   "source": [
    "# Create new dataframe from station_data and all_stations\n",
    "total_station_data = station_data.drop(['station_lat', 'station_lng'], axis=1).merge(all_stations, right_on='station_name', left_on='station_name', how='right')"
   ]
  },
  {
   "cell_type": "markdown",
   "metadata": {},
   "source": [
    "Now we check again for missing values."
   ]
  },
  {
   "cell_type": "code",
   "execution_count": null,
   "metadata": {},
   "outputs": [],
   "source": [
    "# Check for NaN\n",
    "total_station_data[total_station_data.isnull().any(axis=1)]"
   ]
  },
  {
   "cell_type": "markdown",
   "metadata": {},
   "source": [
    "There are quite a few samples in the trip data from 2019 that are not included in the current list of stations. \n",
    "\n",
    "As we do not have more information about the stations even after checking the other station files from Boston Bikes website, we decide to fill the NaN data with proper values.\n",
    "\n",
    "1) *total_docks* and *deployment_year* will be filled with -1, implying there is no info.\n",
    "2) *station_id_string* will be filled with the predefined format (X00000).\n",
    "3) For *public*, we noticed that the only values used are 'Yes' and 'nan'. Therefore, we assume that all known stations are public.\n",
    "4) For *district*, we will perform a Google Maps search to fill the district info (see below)."
   ]
  },
  {
   "cell_type": "code",
   "execution_count": null,
   "metadata": {},
   "outputs": [],
   "source": [
    "# Fill station data station id string with format X000000\n",
    "total_station_data['station_id_string'] = total_station_data['station_id_string'].fillna('X00000')\n",
    "\n",
    "# Fill station data public with 'Yes'\n",
    "total_station_data['public'] = total_station_data['public'].fillna('Yes')\n",
    "\n",
    "# Fill station data deployment year and total docks with -1\n",
    "total_station_data['deployment_year'] = total_station_data['deployment_year'].fillna(-1)\n",
    "total_station_data['total_docks'] = total_station_data['total_docks'].fillna(-1)\n"
   ]
  },
  {
   "cell_type": "code",
   "execution_count": null,
   "metadata": {},
   "outputs": [],
   "source": [
    "# Check for missing values in total_station_data\n",
    "total_station_data[total_station_data.isnull().any(axis=1)].head(1)"
   ]
  },
  {
   "cell_type": "code",
   "execution_count": null,
   "metadata": {},
   "outputs": [],
   "source": [
    "# Assign dtype to total_station_data station_id\n",
    "total_station_data.station_id = total_station_data.station_id.astype('int64')"
   ]
  },
  {
   "cell_type": "code",
   "execution_count": null,
   "metadata": {},
   "outputs": [],
   "source": [
    "# # Script to lookup the station names in Google Maps through their Find Place API\n",
    "# rows_with_nan = total_station_data[total_station_data.isnull().any(axis=1)]\n",
    "\n",
    "# def get_google_place_data(stations):\n",
    "#     station_info = {}\n",
    "#     url_endpoint = \"https://maps.googleapis.com/maps/api/place/findplacefromtext/json\"\n",
    "\n",
    "#     for index, record in stations.iterrows():\n",
    "#         url_query_params = f\"?input={urllib.parse.quote_plus(record.station_name)}&inputtype=textquery&fields=formatted_address%2Cname%2Cgeometry&key={API_KEY}&point:42.387151,-71.075978\"\n",
    "#         url = url_endpoint + url_query_params\n",
    "#         payload={}\n",
    "#         headers = {}\n",
    "#         response = requests.request(\"GET\", url, headers=headers, data=payload)\n",
    "#         response = json.loads(response.text)\n",
    "#         if not response[\"candidates\"]:\n",
    "#             print(f\"--------{index}___{record.station_name}\")\n",
    "#             url_query_params = f\"?input={urllib.parse.quote_plus(record.station_name)}&inputtype=textquery&fields=formatted_address%2Cname%2Cgeometry&key={API_KEY}\"\n",
    "#             url = url_endpoint + url_query_params\n",
    "#             print(url)\n",
    "#             response = requests.request(\"GET\", url, headers=headers, data=payload)\n",
    "#             response = json.loads(response.text)\n",
    "#         station_info[record.station_id] = response\n",
    "#     return station_info\n",
    "\n",
    "# google_api_data = get_google_place_data(rows_with_nan)\n",
    "\n",
    "# # Saving the data in a JSON-file\n",
    "\n",
    "# with open(GOOGLE_MAPS_DATA_FILE, 'w') as fp:\n",
    "#     json.dump(google_api_data, fp)\n",
    "\n"
   ]
  },
  {
   "cell_type": "markdown",
   "metadata": {},
   "source": [
    "After checking the json file created via the Google Maps API and the station data (see below), we find that in most cases it works as expected. For some stations, the values are not correct, e.g. locations were found in the UK or other parts of the US. Therefore, we will override these values with a manual Google Maps search with latitude and longitude values."
   ]
  },
  {
   "cell_type": "code",
   "execution_count": null,
   "metadata": {},
   "outputs": [],
   "source": [
    "# We will fill in some districts manually through their lat and long values as they were not found correct via the Google Maps Find Place API\n",
    "total_station_data.at[18, 'district']='Boston' # Prudential Center - Belvedere St\n",
    "total_station_data.at[44, 'district']='Boston' # Congress St at North St\n",
    "total_station_data.at[57, 'district']='Boston' # Allston Green District - Griggs St at Commonwealth Ave\n",
    "total_station_data.at[70, 'district']='Somerville' # Beacon St at Washington / Kirkland\n",
    "total_station_data.at[76, 'district']='Brookline' # Brookline Village - Pearl Street at MBTA\n",
    "total_station_data.at[78, 'district']='Cambridge' # Inman Square at Vellucci Plaza / Hampshire St\n",
    "total_station_data.at[82, 'district']='Boston' # University of Massachusetts Boston - Integrated Sciences Complex 100\n",
    "total_station_data.at[91, 'district']='Somerville' # Ball Sq\n",
    "total_station_data.at[100, 'district']='Cambridge' # Harvard University Gund Hall at Quincy St / Ki...\n",
    "total_station_data.at[160, 'district']='Cambridge' # Sidney Research Campus/ Erie Street at Waverly\n",
    "total_station_data.at[171, 'district']='East Cambridge' # Child St at North St\n",
    "total_station_data.at[174, 'district']='Boston' # Upham's Corner T Stop - Magnolia St at Dudley St\n",
    "total_station_data.at[209, 'district']='Boston' # Washington St at Bradlee St\n",
    "total_station_data.at[224, 'district']='Newton' # Washington St at Myrtle St\n",
    "total_station_data.at[225, 'district']='Somerville' # 30 Dane St.\n",
    "total_station_data.at[261, 'district']='Boston' #  Broadway T Stop W\n",
    "total_station_data.at[280, 'district']='Everett' # Main Street at Carter Street\n",
    "total_station_data.at[288, 'district']='Everett' # Wasgatt Playground\n",
    "total_station_data.at[328, 'district']='Cambridge' # Mobile Temporary Station\n",
    "total_station_data.at[335, 'district']='Boston' # Warehouse Lab PBSC"
   ]
  },
  {
   "cell_type": "markdown",
   "metadata": {},
   "source": [
    "Now we fill the districts found via the Google Maps API for each station."
   ]
  },
  {
   "cell_type": "code",
   "execution_count": null,
   "metadata": {},
   "outputs": [],
   "source": [
    "# Get all stations with missing district and load JSON data from above\n",
    "rows_with_nan = total_station_data[total_station_data.isnull().any(axis=1)]\n",
    "data = json.load(open(GOOGLE_MAPS_DATA_FILE))\n",
    "\n",
    "# For each record with a missing district we lookup the corresponding station id in the JSON file\n",
    "for index, row in rows_with_nan.iterrows():\n",
    "    station_id = row.station_id\n",
    "    json_station_data = data[str(station_id)][\"candidates\"][0]\n",
    "    original_station = total_station_data[total_station_data.station_id == station_id]\n",
    "    \n",
    "    # We  split the data to find the district, as the addresses found are connected with a comma. \n",
    "    # Sometimes no direct address is provided, so we need to check the length of the split.\n",
    "    # If the length is 4, an address is provided, if its 3, then no address is provided\n",
    "    formatted_address = json_station_data[\"formatted_address\"].split(\",\")\n",
    "    district = formatted_address[0].strip() if len(formatted_address) == 3 else formatted_address[1].strip()\n",
    "\n",
    "    # We will fill out the original dataframe with the JSON data\n",
    "    total_station_data.at[total_station_data.station_id == station_id, \"district\"] = district"
   ]
  },
  {
   "cell_type": "code",
   "execution_count": null,
   "metadata": {},
   "outputs": [],
   "source": [
    "# Check for missing values in total_station_data\n",
    "total_station_data[total_station_data.isnull().any(axis=1)]"
   ]
  },
  {
   "cell_type": "code",
   "execution_count": null,
   "metadata": {},
   "outputs": [],
   "source": [
    "# Assign dtypes to stations\n",
    "total_station_data = total_station_data.astype(STATION_DTYPES)"
   ]
  },
  {
   "cell_type": "markdown",
   "metadata": {},
   "source": [
    "Now we count the trips for each station, so we can visualize it later on."
   ]
  },
  {
   "cell_type": "code",
   "execution_count": null,
   "metadata": {},
   "outputs": [],
   "source": [
    "# Count amount of trips for starting and ending stations\n",
    "start_station_count = pd.DataFrame(trip_data_website.start_station_id.value_counts())\n",
    "end_station_count = pd.DataFrame(trip_data_website.end_station_id.value_counts())\n",
    "\n",
    "# Rename columns to fitting names\n",
    "start_station_count = start_station_count.rename(columns={'start_station_id':'start_station_count'})\n",
    "end_station_count = end_station_count.rename(columns={'end_station_id':'end_station_count'})\n",
    "\n",
    "# Merge station counts into station data\n",
    "total_station_data = total_station_data.merge(start_station_count, right_index=True, left_on='station_id')\n",
    "total_station_data = total_station_data.merge(end_station_count, right_index=True, left_on='station_id')\n",
    "\n",
    "# Calculate total amount of trips for each station\n",
    "total_station_data['total_station_count'] = total_station_data['start_station_count'] + total_station_data['end_station_count']"
   ]
  },
  {
   "cell_type": "code",
   "execution_count": null,
   "metadata": {},
   "outputs": [],
   "source": [
    "total_station_data.head(1)"
   ]
  },
  {
   "cell_type": "markdown",
   "metadata": {},
   "source": [
    "The following data sets are the important ones for later use:\n",
    "\n",
    "- **total_station_data**: all data provided on each station\n",
    "- **trip_data_website**: all trips with weather data and station data"
   ]
  },
  {
   "cell_type": "code",
   "execution_count": null,
   "metadata": {},
   "outputs": [],
   "source": [
    "trip_data_website.head(1)"
   ]
  },
  {
   "attachments": {},
   "cell_type": "markdown",
   "metadata": {},
   "source": [
    "# 2. Descriptive Analytics"
   ]
  },
  {
   "cell_type": "markdown",
   "metadata": {},
   "source": [
    "## Clustering"
   ]
  },
  {
   "attachments": {},
   "cell_type": "markdown",
   "metadata": {},
   "source": [
    "### User and trip types"
   ]
  },
  {
   "attachments": {},
   "cell_type": "markdown",
   "metadata": {},
   "source": [
    "#### Simple clustering with sample"
   ]
  },
  {
   "cell_type": "code",
   "execution_count": null,
   "metadata": {},
   "outputs": [],
   "source": [
    "# To-do"
   ]
  },
  {
   "attachments": {},
   "cell_type": "markdown",
   "metadata": {},
   "source": [
    "#### Simple clustering with full dataset"
   ]
  },
  {
   "cell_type": "code",
   "execution_count": null,
   "metadata": {},
   "outputs": [],
   "source": [
    "trip_data_website['age'] = 2019 - trip_data_website['birth_year']"
   ]
  },
  {
   "cell_type": "code",
   "execution_count": null,
   "metadata": {},
   "outputs": [],
   "source": [
    "customer_cluster_analysis = pd.DataFrame(trip_data_website, columns = (['trip_duration', 'age', 'max_temp']))\n",
    "\n",
    "from sklearn.preprocessing import StandardScaler\n",
    "scaler = StandardScaler()\n",
    "scaler.fit(customer_cluster_analysis)\n",
    "customer_cluster_analysis_scaled = scaler.transform(customer_cluster_analysis)\n",
    "customer_cluster_analysis_scaled_df = pd.DataFrame(customer_cluster_analysis_scaled, columns=customer_cluster_analysis.columns, index=customer_cluster_analysis.index)\n",
    "\n",
    "customer_cluster_analysis_scaled_df['gender'] = trip_data_website['gender']\n",
    "customer_cluster_analysis_scaled_df['precip'] = trip_data_website['precip']\n",
    "customer_cluster_analysis_scaled_df['user_type_id'] = trip_data_website['user_type_id']"
   ]
  },
  {
   "cell_type": "code",
   "execution_count": null,
   "metadata": {},
   "outputs": [],
   "source": [
    "sns.pairplot(data=customer_cluster_analysis_scaled_df, hue='user_type_id')"
   ]
  },
  {
   "attachments": {},
   "cell_type": "markdown",
   "metadata": {},
   "source": [
    "#### K-Means preparation"
   ]
  },
  {
   "cell_type": "code",
   "execution_count": null,
   "metadata": {},
   "outputs": [],
   "source": [
    "k_max = 15\n",
    "clusters = []\n",
    "losses = []\n",
    "\n",
    "from sklearn.cluster import KMeans\n",
    "for k in range(k_max):\n",
    "    model = KMeans(n_clusters=k+1)\n",
    "    model.fit(customer_cluster_analysis_scaled)\n",
    "    clusters.append(k+1)\n",
    "    losses.append(model.inertia_)"
   ]
  },
  {
   "cell_type": "code",
   "execution_count": null,
   "metadata": {},
   "outputs": [],
   "source": [
    "# Visualize\n",
    "plt.plot(clusters, losses)\n",
    "plt.ylabel(\"Loss\")\n",
    "plt.xlabel(\"Number of clusters\")\n",
    "plt.show()"
   ]
  },
  {
   "cell_type": "code",
   "execution_count": null,
   "metadata": {},
   "outputs": [],
   "source": [
    "plt.plot(clusters, losses)\n",
    "plt.ylabel(\"Loss\")\n",
    "plt.xlabel(\"Number of clusters\")\n",
    "plt.xlim([3,10])"
   ]
  },
  {
   "attachments": {},
   "cell_type": "markdown",
   "metadata": {},
   "source": [
    "#### K-Means++ with k=5"
   ]
  },
  {
   "cell_type": "code",
   "execution_count": null,
   "metadata": {},
   "outputs": [],
   "source": [
    "customer_cluster_analysis_kmeans = KMeans(n_clusters=5, init='k-means++',max_iter=300, n_init=10, random_state=0)\n",
    "customer_cluster_analysis_kmeans.fit(customer_cluster_analysis_scaled)\n",
    "customer_cluster_analysis_kmeans.predict(customer_cluster_analysis_scaled)"
   ]
  },
  {
   "cell_type": "code",
   "execution_count": null,
   "metadata": {},
   "outputs": [],
   "source": [
    "numbers = [\"zero\", \"one\", \"two\", \"three\", \"four\", \"five\"]\n",
    "customer_cluster_analysis_scaled_df[\"five\"] = customer_cluster_analysis_kmeans.predict(customer_cluster_analysis_scaled)\n",
    "customer_cluster_analysis_scaled_df[\"five\"] = customer_cluster_analysis_scaled_df[\"five\"].apply(lambda x: numbers[x])\n"
   ]
  },
  {
   "cell_type": "code",
   "execution_count": null,
   "metadata": {},
   "outputs": [],
   "source": [
    "# Visualize\n",
    "sns.pairplot(data=customer_cluster_analysis_scaled_df, hue=\"five\")"
   ]
  },
  {
   "attachments": {},
   "cell_type": "markdown",
   "metadata": {},
   "source": [
    "#### Principal Component Analysis (PCA)"
   ]
  },
  {
   "cell_type": "code",
   "execution_count": null,
   "metadata": {},
   "outputs": [],
   "source": [
    "from sklearn.decomposition import PCA\n",
    "pca = PCA(n_components=2)\n",
    "X_pca = pca.fit_transform(customer_cluster_analysis_scaled)\n",
    "print(sum(pca.explained_variance_ratio_))"
   ]
  },
  {
   "cell_type": "code",
   "execution_count": null,
   "metadata": {},
   "outputs": [],
   "source": [
    "\n",
    "Poly_data = trip_data_website.groupby([\n",
    "    trip_data_website[\"start_time\"].dt.month, \n",
    "     trip_data_website[\"start_time\"].dt.day, \n",
    "     trip_data_website[\"start_time\"].dt.weekday, \n",
    "     trip_data_website[\"start_time\"].dt.hour,\n",
    "     trip_data_website[\"precip\"],\n",
    "    np.floor( trip_data_website[\"min_temp\"])]).size().rename(\"hourly_demand\")#.sample(frac=1)\n",
    "\n",
    "Poly_data.index.rename([\"month\", \"day\", \"weekday\", \"hour\", \"precip\", \"min_temp\"], inplace=True)\n",
    "Poly_data = Poly_data.reset_index()\n"
   ]
  },
  {
   "cell_type": "code",
   "execution_count": null,
   "metadata": {
    "id": "4rajpilN-cjV"
   },
   "outputs": [],
   "source": [
    "\n",
    "trip_data_copy = trip_data_website.copy()\n",
    "trip_data_copy[\"start_time\"] = trip_data_copy[\"start_time\"].dt.floor(\"H\")\n",
    "\n",
    "ARIMA_data = pd.DataFrame(trip_data_copy.groupby(trip_data_copy[\"start_time\"]).size().rename(\"hourly_demand\"))\n",
    "\n",
    "ARIMA_hours = pd.merge(how=\"outer\", left=ARIMA_data, right=hours_2019, left_index=True, right_on=\"date_time\").set_index('date_time').sort_index().fillna(0)"
   ]
  },
  {
   "cell_type": "code",
   "execution_count": null,
   "metadata": {},
   "outputs": [],
   "source": [
    "\n",
    "LSTM_data = trip_data_website.groupby([trip_data_website[\"start_time\"].dt.floor(\"H\")]).size().rename(\"hourly_demand\")\n",
    "LSTM_data = pd.merge(LSTM_data, weather_all_hours, 'outer', left_index=True, right_index=True).fillna(0)"
   ]
  },
  {
   "cell_type": "code",
   "execution_count": null,
   "metadata": {
    "id": "yIdw1oVDQt8Q"
   },
   "outputs": [],
   "source": [
    "print(LSTM_data[-500:].head())\n",
    "print(ARIMA_hours[-500:].head())\n",
    "print(Poly_data[-500:].head())"
   ]
  },
  {
   "cell_type": "code",
   "execution_count": null,
   "metadata": {},
   "outputs": [],
   "source": [
    "def eval_result(predicted_values, actual_values):\n",
    "\n",
    "    print(f\"Root Mean Squared Error Very Short term: {mean_squared_error(predicted_values[:1], actual_values[:1], squared=False)}\")\n",
    "    print(f\"R2 Very Short term: {r2_score(predicted_values[:2], actual_values[:2])}\")\n",
    "    print()\n",
    "    print(f\"Root Mean Squared Error Short term: {mean_squared_error(predicted_values[:10], actual_values[:10], squared=False)}\")\n",
    "    print(f\"R2 Short term: {r2_score(predicted_values[:10], actual_values[:10],)}\")\n",
    "    print()\n",
    "    print(f\"Root Mean Squared Error Mid term: {mean_squared_error(predicted_values[:100], actual_values[:100], squared=False)}\")\n",
    "    print(f\"R2 Mid term: {r2_score(predicted_values[:100], actual_values[:100])}\")\n",
    "    print()\n",
    "    print(f\"Root Mean Squared Error Long term: {mean_squared_error(predicted_values, actual_values, squared=False)}\")\n",
    "    print(f\"R2 Long term: {r2_score(predicted_values, actual_values)}\")\n",
    "    print()"
   ]
  },
  {
   "cell_type": "code",
   "execution_count": null,
   "metadata": {},
   "outputs": [],
   "source": [
    "print(mean_squared_error(ARIMA_data[1:-1], ARIMA_data.shift()[1:-1], squared=False))"
   ]
  },
  {
   "cell_type": "code",
   "execution_count": null,
   "metadata": {},
   "outputs": [],
   "source": [
    "# convert series to supervised learning\n",
    "def series_to_supervised(data, n_in=1, n_out=1, dropnan=True):\n",
    "\tn_vars = 1 if type(data) is list else data.shape[1]\n",
    "\tdf = pd.DataFrame(data)\n",
    "\tcols, names = list(), list()\n",
    "\t# input sequence (t-n, ... t-1)\n",
    "\tfor i in range(n_in, 0, -1):\n",
    "\t\tcols.append(df.shift(i))\n",
    "\t\tnames += [('var%d(t-%d)' % (j+1, i)) for j in range(n_vars)]\n",
    "\t# forecast sequence (t, t+1, ... t+n)\n",
    "\tfor i in range(0, n_out):\n",
    "\t\tcols.append(df.shift(-i))\n",
    "\t\tif i == 0:\n",
    "\t\t\tnames += [('var%d(t)' % (j+1)) for j in range(n_vars)]\n",
    "\t\telse:\n",
    "\t\t\tnames += [('var%d(t+%d)' % (j+1, i)) for j in range(n_vars)]\n",
    "\t# put it all together\n",
    "\tagg = pd.concat(cols, axis=1)\n",
    "\tagg.columns = names\n",
    "\t# drop rows with NaN values\n",
    "\tif dropnan:\n",
    "\t\tagg.dropna(inplace=True)\n",
    "\treturn agg\n",
    " \n",
    "def prepare_lstm_dataset(dataset, scaler, n_hours=1):\n",
    "\tvalues = dataset.values\n",
    "\tvalues = values.astype('float32')\n",
    "\tscaled = scaler.fit_transform(values)\n",
    "\n",
    "\treframed = series_to_supervised(scaled, n_hours, 1)\n",
    "\t# drop columns we don't want to predict\n",
    "\t\n",
    "\treturn reframed\n",
    "\n",
    "def LSTM_test_train_feature_label_split(data, test_amount):\n",
    "\ttrain = data[:test_amount, :]\n",
    "\ttest = data[test_amount:, :]\n",
    "\n",
    "\ttrain_X, train_y = train[:, :-1], train[:, -1]\n",
    "\ttest_X, test_y = test[:, :-1], test[:, -1]\n",
    "\n",
    "\ttrain_X = train_X.reshape((train_X.shape[0], 1, train_X.shape[1]))\n",
    "\ttest_X = test_X.reshape((test_X.shape[0], 1, test_X.shape[1]))\n",
    " \n",
    "\treturn train_X, train_y, test_X, test_y\n",
    "\n",
    "\n",
    "def revert_LSTM_shaping(X_shape, Y_shape, yhat, scaler):\n",
    "\ttest_X = X_shape.reshape((X_shape.shape[0], X_shape.shape[2]))\n",
    "\ttest_y = Y_shape.reshape((len(Y_shape), 1))\n",
    "\n",
    "\t# invert scaling for forecast\n",
    "\tinv_yhat = np.concatenate((yhat, test_X[:, 1:]), axis=1)\n",
    "\tinv_yhat = scaler.inverse_transform(inv_yhat)\n",
    "\tprediction = inv_yhat[:,0]\n",
    "\t# invert scaling for actual\n",
    "\tinv_y = np.concatenate((test_y, test_X[:, 1:]), axis=1)\n",
    "\tinv_y = scaler.inverse_transform(inv_y)\n",
    "\tactual = inv_y[:,0]\n",
    "\n",
    "\treturn prediction, actual\n",
    "\n",
    "def create_LSTM_model(LSTM_input_shape):\n",
    "\tmodel = tf.keras.models.Sequential()\n",
    "\tmodel.add(LSTM(50, input_shape=LSTM_input_shape))\n",
    "\tmodel.add(Dense(1))\n",
    "\tmodel.compile(loss='mean_squared_error', optimizer='adam', metrics=[tf.keras.metrics.RootMeanSquaredError()])\n",
    "\treturn model\n",
    " \n",
    "\n",
    "def fit_LSTM_model(model, features, labels, epochs=50, batch_size=72):\n",
    "\treturn model.fit(features, labels, epochs=epochs, batch_size=batch_size, verbose=2, shuffle=False)\t\n",
    "\n",
    "\n",
    "LSTM_scaler = MinMaxScaler(feature_range=(0, 1))\n",
    "# split into train and test sets\n",
    "reframed = prepare_lstm_dataset(LSTM_data, LSTM_scaler)\n",
    "reframed.drop(reframed.columns[[5,6,7]], axis=1, inplace=True)\n",
    "values = reframed.values\n",
    "\n",
    "train_X, train_y, test_X, test_y = LSTM_test_train_feature_label_split(values, -500)\n",
    "\n",
    "model = create_LSTM_model((train_X.shape[1], train_X.shape[2]))\n",
    "\n",
    "fit_LSTM_model(model, train_X, train_y)\n",
    "\n",
    "# make a prediction\n",
    "LSTM_normalized_prediction = model.predict(test_X)\n",
    "\n",
    "LSTM_prediction, LSTM_actual = revert_LSTM_shaping(test_X, test_y, LSTM_normalized_prediction, LSTM_scaler)\n"
   ]
  },
  {
   "cell_type": "code",
   "execution_count": null,
   "metadata": {},
   "outputs": [],
   "source": [
    "#print(mean_squared_error(LSTM_prediction, LSTM_actual, squared=False))\n",
    "plt.plot(LSTM_actual, label=\"actual\")\n",
    "plt.plot(LSTM_prediction, label=\"prediction\")\n"
   ]
  },
  {
   "cell_type": "code",
   "execution_count": null,
   "metadata": {},
   "outputs": [],
   "source": [
    "#print(mean_squared_error(LSTM_prediction, LSTM_actual, squared=False))\n",
    "plt.plot(LSTM_actual[:24])\n",
    "plt.plot(LSTM_prediction[:24])\n",
    "\n"
   ]
  },
  {
   "cell_type": "code",
   "execution_count": null,
   "metadata": {},
   "outputs": [],
   "source": [
    "n_hours = 24\n",
    "n_features = 4\n",
    "\n",
    "n_obs = n_hours * n_features\n",
    "\n",
    "reframed_mul = prepare_lstm_dataset(LSTM_data, LSTM_scaler, n_hours)\n",
    "\n",
    "values_mul = reframed_mul.values\n",
    "train_mul = values_mul[:-500, :]\n",
    "test_mul = values_mul[-500:, :]\n",
    "\n",
    "train_X_mul, train_y_mul = train_mul[:, :n_obs], train_mul[:, -n_features]\n",
    "test_X_mul, test_y_mul = test_mul[:, :n_obs], test_mul[:, -n_features]\n",
    "\n",
    "train_X_mul = train_X_mul.reshape((train_X_mul.shape[0], n_hours, n_features))\n",
    "test_X_mul = test_X_mul.reshape((test_X_mul.shape[0], n_hours, n_features))\n",
    "\n",
    "print(train_X_mul.shape)\n",
    "print((train_X_mul.shape[1], train_X_mul.shape[2]))\n",
    "\n",
    "model_mul = create_LSTM_model((train_X_mul.shape[1], train_X_mul.shape[2]))\n",
    "\n",
    "fit_LSTM_model(model_mul, train_X_mul, train_y_mul, epochs=50)\n",
    "\n",
    "# make a prediction\n",
    "LSTM_normalized_prediction_mul = model_mul.predict(test_X_mul)\n",
    "\n",
    "test_X_mul = test_X_mul.reshape(len(test_X_mul), n_obs)\n",
    "\n",
    "# invert scaling for forecast\n",
    "inv_yhat = np.concatenate((LSTM_normalized_prediction_mul, test_X_mul[:, -n_features+1:]), axis=1)\n",
    "inv_yhat = LSTM_scaler.inverse_transform(inv_yhat)\n",
    "inv_yhat = inv_yhat[:,0]\n",
    "# invert scaling for actual\n",
    "test_y = test_y_mul.reshape((len(test_y), 1))\n",
    "inv_y = np.concatenate((test_y, test_X_mul[:, -n_features+1:]), axis=1)\n",
    "inv_y = LSTM_scaler.inverse_transform(inv_y)\n",
    "inv_y = inv_y[:,0]\n",
    "\n",
    "#print(mean_squared_error(inv_yhat, inv_y, squared=False))\n",
    "plt.plot(inv_y)\n",
    "plt.plot(inv_yhat)\n",
    "#print(mean_absolute_error(inv_yhat, inv_y))\n",
    "\n",
    "\n"
   ]
  },
  {
   "cell_type": "code",
   "execution_count": null,
   "metadata": {},
   "outputs": [],
   "source": [
    "eval_result(inv_yhat, inv_y)\n",
    "\n",
    "plt.plot(inv_y[24:48])\n",
    "plt.plot(inv_yhat[24:48])\n",
    "\n"
   ]
  },
  {
   "cell_type": "code",
   "execution_count": null,
   "metadata": {},
   "outputs": [],
   "source": [
    "\n",
    "n_hours = 72\n",
    "n_features = 4\n",
    "\n",
    "n_obs = n_hours * n_features\n",
    "\n",
    "reframed_opt = prepare_lstm_dataset(LSTM_data, LSTM_scaler, n_hours)\n",
    "\n",
    "values_opt = reframed_opt.values\n",
    "train_opt = values_opt[:-500, :]\n",
    "test_opt = values_opt[-500:, :]\n",
    "\n",
    "train_X_opt, train_y_opt = train_opt[:, :n_obs], train_opt[:, -n_features]\n",
    "test_X_opt, test_y_opt = test_opt[:, :n_obs], test_opt[:, -n_features]\n",
    "\n",
    "train_X_opt = train_X_opt.reshape((train_X_opt.shape[0], n_hours, n_features))\n",
    "test_X_opt = test_X_opt.reshape((test_X_opt.shape[0], n_hours, n_features))\n",
    "\n",
    "#Creating a bigger model\n",
    "model_opt = tf.keras.models.Sequential()\n",
    "model_opt.add(LSTM(50, input_shape=(train_X_opt.shape[1], train_X_opt.shape[2]), activity_regularizer=tf.keras.regularizers.l1_l2(l1=1e-5, l2=1e-5)))\n",
    "model_opt.add(Dense(30))\n",
    "model_opt.add(Dense(20))\n",
    "model_opt.add(Dense(1))\n",
    "model_opt.compile(loss='mean_squared_error', optimizer='adam', metrics=[tf.keras.metrics.RootMeanSquaredError()])\n",
    "\n",
    "#print(train_X_opt.shape)\n",
    "#print(train_y_opt.shape)\n",
    "\n",
    "fit_LSTM_model(model_opt, train_X_opt, train_y_opt, epochs=50)\n",
    "\n",
    "# make a prediction\n",
    "LSTM_normalized_prediction_opt = model_opt.predict(test_X_opt)\n",
    "\n",
    "test_X_opt = test_X_opt.reshape(len(test_X_opt), n_obs)\n",
    "\n",
    "# invert scaling for forecast\n",
    "inv_yhat = np.concatenate((LSTM_normalized_prediction_opt, test_X_opt[:, -n_features+1:]), axis=1)\n",
    "inv_yhat = LSTM_scaler.inverse_transform(inv_yhat)\n",
    "inv_yhat = inv_yhat[:,0]\n",
    "# invert scaling for actual\n",
    "test_y = test_y_opt.reshape((len(test_y), 1))\n",
    "inv_y = np.concatenate((test_y, test_X_opt[:, -n_features+1:]), axis=1)\n",
    "inv_y = LSTM_scaler.inverse_transform(inv_y)\n",
    "inv_y = inv_y[:,0]\n",
    "\n",
    "#print(mean_squared_error(inv_yhat, inv_y, squared=False))\n",
    "plt.plot(inv_yhat)\n",
    "plt.plot(inv_y)\n",
    "#print(mean_absolute_error(inv_yhat, inv_y))\n",
    "\n",
    "\n",
    "eval_result(inv_yhat, inv_y)\n"
   ]
  },
  {
   "cell_type": "code",
   "execution_count": null,
   "metadata": {},
   "outputs": [],
   "source": [
    "\n",
    "plt.plot(inv_y[24:48])\n",
    "plt.plot(inv_yhat[24:48])\n",
    "\n",
    "\n",
    "\n"
   ]
  },
  {
   "attachments": {},
   "cell_type": "markdown",
   "metadata": {},
   "source": [
    "## Preparing the prediction data\n"
   ]
  },
  {
   "cell_type": "code",
   "execution_count": 25,
   "metadata": {},
   "outputs": [],
   "source": [
    "#JD\n",
    "Poly_data = trip_data_website.groupby([\n",
    "    trip_data_website[\"start_time\"].dt.month, \n",
    "    trip_data_website[\"start_time\"].dt.day, \n",
    "     trip_data_website[\"start_time\"].dt.weekday, \n",
    "     trip_data_website[\"start_time\"].dt.hour,\n",
    "     trip_data_website[\"precip\"],\n",
    "    np.floor(trip_data_website[\"min_temp\"])]).size().rename(\"hourly_demand\")#.sample(frac=1)\n",
    "\n",
    "Poly_data.index.rename([\"month\", \"day\", \"weekday\", \"hour\", \"precip\", \"min_temp\"], inplace=True)\n",
    "Poly_data = Poly_data.reset_index()\n"
   ]
  },
  {
   "attachments": {},
   "cell_type": "markdown",
   "metadata": {},
   "source": [
    "### ARIMA dataset\n"
   ]
  },
  {
   "cell_type": "code",
   "execution_count": 27,
   "metadata": {},
   "outputs": [],
   "source": [
    "#First we will take a copy of the trip_data and round the hour\n",
    "trip_data_copy = trip_data_website.copy()\n",
    "trip_data_copy[\"start_time\"] = trip_data_copy[\"start_time\"].dt.floor(\"H\")\n",
    "\n",
    "ARIMA_data = pd.DataFrame(trip_data_copy.groupby(trip_data_copy[\"start_time\"]).size().rename(\"hourly_demand\"))\n",
    "# Adding the 2019 hours, so we have an hour representation for each hour.\n",
    "ARIMA_hours = pd.merge(how=\"outer\", left=ARIMA_data, right=hours_2019, left_index=True, right_on=\"date_time\").set_index('date_time').sort_index().fillna(0)"
   ]
  },
  {
   "attachments": {},
   "cell_type": "markdown",
   "metadata": {},
   "source": [
    "### LSTM dataset\n"
   ]
  },
  {
   "cell_type": "code",
   "execution_count": 28,
   "metadata": {},
   "outputs": [],
   "source": [
    "#JD\n",
    "\n",
    "LSTM_data = trip_data_website.groupby([trip_data_website[\"start_time\"].dt.floor(\"H\")]).size().rename(\"hourly_demand\")\n",
    "LSTM_data = pd.merge(LSTM_data, weather_all_hours, 'outer', left_index=True, right_index=True).fillna(0)\n"
   ]
  },
  {
   "cell_type": "markdown",
   "metadata": {
    "id": "ZyQnQxTUQhaO"
   },
   "source": [
    "### Test labels\n",
    "Here we will define the last 500 hours for the test_labeling."
   ]
  },
  {
   "cell_type": "code",
   "execution_count": 29,
   "metadata": {},
   "outputs": [
    {
     "name": "stdout",
     "output_type": "stream",
     "text": [
      "                     hourly_demand  max_temp  min_temp  precip\n",
      "2019-12-11 04:00:00            6.0       7.2       7.2       1\n",
      "2019-12-11 05:00:00           32.0       5.6       5.0       1\n",
      "2019-12-11 06:00:00           59.0       5.6       5.0       1\n",
      "2019-12-11 07:00:00          149.0       3.9       3.9       1\n",
      "2019-12-11 08:00:00          359.0       2.8       2.2       1\n",
      "                     hourly_demand\n",
      "date_time                         \n",
      "2019-12-11 04:00:00            6.0\n",
      "2019-12-11 05:00:00           32.0\n",
      "2019-12-11 06:00:00           59.0\n",
      "2019-12-11 07:00:00          149.0\n",
      "2019-12-11 08:00:00          359.0\n",
      "      month  day  weekday  hour  precip  min_temp  hourly_demand\n",
      "7456     12   11        2     1       0      10.0              8\n",
      "7457     12   11        2     2       0       9.0              3\n",
      "7458     12   11        2     3       1       7.0              4\n",
      "7459     12   11        2     4       1       7.0              6\n",
      "7460     12   11        2     5       1       5.0             32\n"
     ]
    }
   ],
   "source": [
    "print(LSTM_data[-500:].head())\n",
    "print(ARIMA_hours[-500:].head())\n",
    "print(Poly_data[-500:].head())"
   ]
  },
  {
   "cell_type": "code",
   "execution_count": 30,
   "metadata": {},
   "outputs": [
    {
     "ename": "SyntaxError",
     "evalue": "invalid syntax (2510989565.py, line 31)",
     "output_type": "error",
     "traceback": [
      "\u001b[1;36m  File \u001b[1;32m\"C:\\Users\\Timo_\\AppData\\Local\\Temp\\ipykernel_1984\\2510989565.py\"\u001b[1;36m, line \u001b[1;32m31\u001b[0m\n\u001b[1;33m    Saving the data in JSON-file\u001b[0m\n\u001b[1;37m           ^\u001b[0m\n\u001b[1;31mSyntaxError\u001b[0m\u001b[1;31m:\u001b[0m invalid syntax\n"
     ]
    }
   ],
   "source": [
    "## Script to lookup google maps data\n",
    "##Script to lookup the station Names in conjuction to the Boston buzzword for information on the latitude & longitude information!\n",
    "\n",
    "def get_google_place_data(stations):\n",
    "    station_info = {}\n",
    "    url_endpoint = \"https://maps.googleapis.com/maps/api/place/findplacefromtext/json\"\n",
    "\n",
    "    for index, record in stations.iterrows():\n",
    "        if record.station_id == -1:\n",
    "            print(\"No Destination leave out!\")\n",
    "            continue\n",
    "        print(f\"{index}___{record.search_name}\")\n",
    "        url_query_params = f\"?input={urllib.parse.quote_plus(record.search_name)}&inputtype=textquery&fields=formatted_address%2Cname%2Cgeometry&key={API_KEY}\"\n",
    "        url = url_endpoint + url_query_params\n",
    "        payload={}\n",
    "        headers = {}\n",
    "        response = requests.request(\"GET\", url, headers=headers, data=payload)\n",
    "        response = json.loads(response.text)\n",
    "        if not response[\"candidates\"]:\n",
    "            print(f\"--------{index}___{record.station_name}\")\n",
    "            url_query_params = f\"?input={urllib.parse.quote_plus(record.station_name)}&inputtype=textquery&fields=formatted_address%2Cname%2Cgeometry&key={API_KEY}\"\n",
    "            url = url_endpoint + url_query_params\n",
    "            print(url)\n",
    "            response = requests.request(\"GET\", url, headers=headers, data=payload)\n",
    "            response = json.loads(response.text)\n",
    "        station_info[record.station_id] = response\n",
    "    return station_info\n",
    "\n",
    "google_api_data = get_google_place_data(stations)\n",
    "\n",
    "Saving the data in JSON-file\n",
    "\n",
    "with open(GOOGLE_MAPS_DATA_FILE, 'w') as fp:\n",
    "    json.dump(google_api_data, fp)\n",
    "    "
   ]
  },
  {
   "attachments": {},
   "cell_type": "markdown",
   "metadata": {},
   "source": [
    "# 4: Prediction"
   ]
  },
  {
   "cell_type": "code",
   "execution_count": 31,
   "metadata": {},
   "outputs": [],
   "source": [
    "def eval_result(predicted_values, actual_values):\n",
    "\n",
    "    print(f\"Root Mean Squared Error Very Short term: {mean_squared_error(predicted_values[:1], actual_values[:1], squared=False)}\")\n",
    "    print(f\"R2 Very Short term: {r2_score(predicted_values[:2], actual_values[:2])}\")\n",
    "    print()\n",
    "    print(f\"Root Mean Squared Error Short term: {mean_squared_error(predicted_values[:10], actual_values[:10], squared=False)}\")\n",
    "    print(f\"R2 Short term: {r2_score(predicted_values[:10], actual_values[:10],)}\")\n",
    "    print()\n",
    "    print(f\"Root Mean Squared Error Mid term: {mean_squared_error(predicted_values[:100], actual_values[:100], squared=False)}\")\n",
    "    print(f\"R2 Mid term: {r2_score(predicted_values[:100], actual_values[:100])}\")\n",
    "    print()\n",
    "    print(f\"Root Mean Squared Error Long term: {mean_squared_error(predicted_values, actual_values, squared=False)}\")\n",
    "    print(f\"R2 Long term: {r2_score(predicted_values, actual_values)}\")\n",
    "    print()"
   ]
  },
  {
   "attachments": {},
   "cell_type": "markdown",
   "metadata": {},
   "source": [
    "### Root Benchmark\n"
   ]
  },
  {
   "cell_type": "code",
   "execution_count": 32,
   "metadata": {},
   "outputs": [
    {
     "name": "stdout",
     "output_type": "stream",
     "text": [
      "175.71111347476463\n"
     ]
    }
   ],
   "source": [
    "print(mean_squared_error(ARIMA_data[1:-1], ARIMA_data.shift()[1:-1], squared=False))"
   ]
  },
  {
   "attachments": {},
   "cell_type": "markdown",
   "metadata": {},
   "source": [
    "### LSTM Model\n"
   ]
  },
  {
   "attachments": {},
   "cell_type": "markdown",
   "metadata": {},
   "source": []
  },
  {
   "cell_type": "code",
   "execution_count": 33,
   "metadata": {},
   "outputs": [
    {
     "name": "stdout",
     "output_type": "stream",
     "text": [
      "Epoch 1/50\n",
      "115/115 - 12s - loss: 0.0212 - root_mean_squared_error: 0.1456 - 12s/epoch - 105ms/step\n",
      "Epoch 2/50\n",
      "115/115 - 1s - loss: 0.0129 - root_mean_squared_error: 0.1134 - 558ms/epoch - 5ms/step\n",
      "Epoch 3/50\n",
      "115/115 - 1s - loss: 0.0092 - root_mean_squared_error: 0.0960 - 558ms/epoch - 5ms/step\n",
      "Epoch 4/50\n",
      "115/115 - 1s - loss: 0.0087 - root_mean_squared_error: 0.0931 - 558ms/epoch - 5ms/step\n",
      "Epoch 5/50\n",
      "115/115 - 1s - loss: 0.0086 - root_mean_squared_error: 0.0926 - 550ms/epoch - 5ms/step\n",
      "Epoch 6/50\n",
      "115/115 - 1s - loss: 0.0085 - root_mean_squared_error: 0.0921 - 550ms/epoch - 5ms/step\n",
      "Epoch 7/50\n",
      "115/115 - 1s - loss: 0.0084 - root_mean_squared_error: 0.0916 - 550ms/epoch - 5ms/step\n",
      "Epoch 8/50\n",
      "115/115 - 1s - loss: 0.0083 - root_mean_squared_error: 0.0912 - 558ms/epoch - 5ms/step\n",
      "Epoch 9/50\n",
      "115/115 - 1s - loss: 0.0082 - root_mean_squared_error: 0.0907 - 558ms/epoch - 5ms/step\n",
      "Epoch 10/50\n",
      "115/115 - 1s - loss: 0.0081 - root_mean_squared_error: 0.0902 - 550ms/epoch - 5ms/step\n",
      "Epoch 11/50\n",
      "115/115 - 1s - loss: 0.0081 - root_mean_squared_error: 0.0898 - 568ms/epoch - 5ms/step\n",
      "Epoch 12/50\n",
      "115/115 - 1s - loss: 0.0080 - root_mean_squared_error: 0.0893 - 557ms/epoch - 5ms/step\n",
      "Epoch 13/50\n",
      "115/115 - 1s - loss: 0.0079 - root_mean_squared_error: 0.0889 - 634ms/epoch - 6ms/step\n",
      "Epoch 14/50\n",
      "115/115 - 1s - loss: 0.0078 - root_mean_squared_error: 0.0885 - 558ms/epoch - 5ms/step\n",
      "Epoch 15/50\n",
      "115/115 - 1s - loss: 0.0078 - root_mean_squared_error: 0.0882 - 541ms/epoch - 5ms/step\n",
      "Epoch 16/50\n",
      "115/115 - 1s - loss: 0.0077 - root_mean_squared_error: 0.0878 - 526ms/epoch - 5ms/step\n",
      "Epoch 17/50\n",
      "115/115 - 0s - loss: 0.0077 - root_mean_squared_error: 0.0876 - 491ms/epoch - 4ms/step\n",
      "Epoch 18/50\n",
      "115/115 - 0s - loss: 0.0076 - root_mean_squared_error: 0.0874 - 467ms/epoch - 4ms/step\n",
      "Epoch 19/50\n",
      "115/115 - 0s - loss: 0.0076 - root_mean_squared_error: 0.0872 - 458ms/epoch - 4ms/step\n",
      "Epoch 20/50\n",
      "115/115 - 0s - loss: 0.0076 - root_mean_squared_error: 0.0871 - 463ms/epoch - 4ms/step\n",
      "Epoch 21/50\n",
      "115/115 - 1s - loss: 0.0076 - root_mean_squared_error: 0.0869 - 507ms/epoch - 4ms/step\n",
      "Epoch 22/50\n",
      "115/115 - 1s - loss: 0.0075 - root_mean_squared_error: 0.0869 - 503ms/epoch - 4ms/step\n",
      "Epoch 23/50\n",
      "115/115 - 1s - loss: 0.0075 - root_mean_squared_error: 0.0868 - 501ms/epoch - 4ms/step\n",
      "Epoch 24/50\n",
      "115/115 - 0s - loss: 0.0075 - root_mean_squared_error: 0.0868 - 479ms/epoch - 4ms/step\n",
      "Epoch 25/50\n",
      "115/115 - 1s - loss: 0.0075 - root_mean_squared_error: 0.0867 - 534ms/epoch - 5ms/step\n",
      "Epoch 26/50\n",
      "115/115 - 1s - loss: 0.0075 - root_mean_squared_error: 0.0867 - 523ms/epoch - 5ms/step\n",
      "Epoch 27/50\n",
      "115/115 - 1s - loss: 0.0075 - root_mean_squared_error: 0.0867 - 525ms/epoch - 5ms/step\n",
      "Epoch 28/50\n",
      "115/115 - 1s - loss: 0.0075 - root_mean_squared_error: 0.0867 - 529ms/epoch - 5ms/step\n",
      "Epoch 29/50\n",
      "115/115 - 0s - loss: 0.0075 - root_mean_squared_error: 0.0866 - 465ms/epoch - 4ms/step\n",
      "Epoch 30/50\n",
      "115/115 - 0s - loss: 0.0075 - root_mean_squared_error: 0.0866 - 457ms/epoch - 4ms/step\n",
      "Epoch 31/50\n",
      "115/115 - 0s - loss: 0.0075 - root_mean_squared_error: 0.0866 - 472ms/epoch - 4ms/step\n",
      "Epoch 32/50\n",
      "115/115 - 0s - loss: 0.0075 - root_mean_squared_error: 0.0866 - 432ms/epoch - 4ms/step\n",
      "Epoch 33/50\n",
      "115/115 - 0s - loss: 0.0075 - root_mean_squared_error: 0.0866 - 432ms/epoch - 4ms/step\n",
      "Epoch 34/50\n",
      "115/115 - 0s - loss: 0.0075 - root_mean_squared_error: 0.0866 - 432ms/epoch - 4ms/step\n",
      "Epoch 35/50\n",
      "115/115 - 0s - loss: 0.0075 - root_mean_squared_error: 0.0866 - 432ms/epoch - 4ms/step\n",
      "Epoch 36/50\n",
      "115/115 - 0s - loss: 0.0075 - root_mean_squared_error: 0.0866 - 440ms/epoch - 4ms/step\n",
      "Epoch 37/50\n",
      "115/115 - 0s - loss: 0.0075 - root_mean_squared_error: 0.0866 - 440ms/epoch - 4ms/step\n",
      "Epoch 38/50\n",
      "115/115 - 0s - loss: 0.0075 - root_mean_squared_error: 0.0866 - 444ms/epoch - 4ms/step\n",
      "Epoch 39/50\n",
      "115/115 - 0s - loss: 0.0075 - root_mean_squared_error: 0.0866 - 432ms/epoch - 4ms/step\n",
      "Epoch 40/50\n",
      "115/115 - 0s - loss: 0.0075 - root_mean_squared_error: 0.0866 - 432ms/epoch - 4ms/step\n",
      "Epoch 41/50\n",
      "115/115 - 0s - loss: 0.0075 - root_mean_squared_error: 0.0865 - 443ms/epoch - 4ms/step\n",
      "Epoch 42/50\n",
      "115/115 - 0s - loss: 0.0075 - root_mean_squared_error: 0.0865 - 440ms/epoch - 4ms/step\n",
      "Epoch 43/50\n",
      "115/115 - 0s - loss: 0.0075 - root_mean_squared_error: 0.0865 - 440ms/epoch - 4ms/step\n",
      "Epoch 44/50\n",
      "115/115 - 0s - loss: 0.0075 - root_mean_squared_error: 0.0865 - 432ms/epoch - 4ms/step\n",
      "Epoch 45/50\n",
      "115/115 - 0s - loss: 0.0075 - root_mean_squared_error: 0.0865 - 432ms/epoch - 4ms/step\n",
      "Epoch 46/50\n",
      "115/115 - 0s - loss: 0.0075 - root_mean_squared_error: 0.0865 - 456ms/epoch - 4ms/step\n",
      "Epoch 47/50\n",
      "115/115 - 0s - loss: 0.0075 - root_mean_squared_error: 0.0865 - 432ms/epoch - 4ms/step\n",
      "Epoch 48/50\n",
      "115/115 - 0s - loss: 0.0075 - root_mean_squared_error: 0.0865 - 424ms/epoch - 4ms/step\n",
      "Epoch 49/50\n",
      "115/115 - 0s - loss: 0.0075 - root_mean_squared_error: 0.0865 - 427ms/epoch - 4ms/step\n",
      "Epoch 50/50\n",
      "115/115 - 0s - loss: 0.0075 - root_mean_squared_error: 0.0865 - 450ms/epoch - 4ms/step\n",
      "16/16 [==============================] - 2s 3ms/step\n"
     ]
    }
   ],
   "source": [
    "# convert series to supervised learning\n",
    "def series_to_supervised(data, n_in=1, n_out=1, dropnan=True):\n",
    "\tn_vars = 1 if type(data) is list else data.shape[1]\n",
    "\tdf = pd.DataFrame(data)\n",
    "\tcols, names = list(), list()\n",
    "\t# input sequence (t-n, ... t-1)\n",
    "\tfor i in range(n_in, 0, -1):\n",
    "\t\tcols.append(df.shift(i))\n",
    "\t\tnames += [('var%d(t-%d)' % (j+1, i)) for j in range(n_vars)]\n",
    "\t# forecast sequence (t, t+1, ... t+n)\n",
    "\tfor i in range(0, n_out):\n",
    "\t\tcols.append(df.shift(-i))\n",
    "\t\tif i == 0:\n",
    "\t\t\tnames += [('var%d(t)' % (j+1)) for j in range(n_vars)]\n",
    "\t\telse:\n",
    "\t\t\tnames += [('var%d(t+%d)' % (j+1, i)) for j in range(n_vars)]\n",
    "\t# put it all together\n",
    "\tagg = pd.concat(cols, axis=1)\n",
    "\tagg.columns = names\n",
    "\t# drop rows with NaN values\n",
    "\tif dropnan:\n",
    "\t\tagg.dropna(inplace=True)\n",
    "\treturn agg\n",
    " \n",
    "def prepare_lstm_dataset(dataset, scaler, n_hours=1):\n",
    "\tvalues = dataset.values\n",
    "\tvalues = values.astype('float32')\n",
    "\tscaled = scaler.fit_transform(values)\n",
    "\n",
    "\treframed = series_to_supervised(scaled, n_hours, 1)\n",
    "\t# drop columns we don't want to predict\n",
    "\t\n",
    "\treturn reframed\n",
    "\n",
    "def LSTM_test_train_feature_label_split(data, test_amount):\n",
    "\ttrain = data[:test_amount, :]\n",
    "\ttest = data[test_amount:, :]\n",
    "\n",
    "\ttrain_X, train_y = train[:, :-1], train[:, -1]\n",
    "\ttest_X, test_y = test[:, :-1], test[:, -1]\n",
    "\n",
    "\ttrain_X = train_X.reshape((train_X.shape[0], 1, train_X.shape[1]))\n",
    "\ttest_X = test_X.reshape((test_X.shape[0], 1, test_X.shape[1]))\n",
    " \n",
    "\treturn train_X, train_y, test_X, test_y\n",
    "\n",
    "\n",
    "def revert_LSTM_shaping(X_shape, Y_shape, yhat, scaler):\n",
    "\ttest_X = X_shape.reshape((X_shape.shape[0], X_shape.shape[2]))\n",
    "\ttest_y = Y_shape.reshape((len(Y_shape), 1))\n",
    "\n",
    "\t# invert scaling for forecast\n",
    "\tinv_yhat = np.concatenate((yhat, test_X[:, 1:]), axis=1)\n",
    "\tinv_yhat = scaler.inverse_transform(inv_yhat)\n",
    "\tprediction = inv_yhat[:,0]\n",
    "\t# invert scaling for actual\n",
    "\tinv_y = np.concatenate((test_y, test_X[:, 1:]), axis=1)\n",
    "\tinv_y = scaler.inverse_transform(inv_y)\n",
    "\tactual = inv_y[:,0]\n",
    "\n",
    "\treturn prediction, actual\n",
    "\n",
    "def create_LSTM_model(LSTM_input_shape):\n",
    "\tmodel = tf.keras.models.Sequential()\n",
    "\tmodel.add(LSTM(50, input_shape=LSTM_input_shape))\n",
    "\tmodel.add(Dense(1))\n",
    "\tmodel.compile(loss='mean_squared_error', optimizer='adam', metrics=[tf.keras.metrics.RootMeanSquaredError()])\n",
    "\treturn model\n",
    " \n",
    "\n",
    "def fit_LSTM_model(model, features, labels, epochs=50, batch_size=72):\n",
    "\treturn model.fit(features, labels, epochs=epochs, batch_size=batch_size, verbose=2, shuffle=False)\t\n",
    "\n",
    "\n",
    "LSTM_scaler = MinMaxScaler(feature_range=(0, 1))\n",
    "# split into train and test sets\n",
    "reframed = prepare_lstm_dataset(LSTM_data, LSTM_scaler)\n",
    "reframed.drop(reframed.columns[[5,6,7]], axis=1, inplace=True)\n",
    "values = reframed.values\n",
    "\n",
    "train_X, train_y, test_X, test_y = LSTM_test_train_feature_label_split(values, -500)\n",
    "\n",
    "model = create_LSTM_model((train_X.shape[1], train_X.shape[2]))\n",
    "\n",
    "fit_LSTM_model(model, train_X, train_y)\n",
    "\n",
    "# make a prediction\n",
    "LSTM_normalized_prediction = model.predict(test_X)\n",
    "\n",
    "LSTM_prediction, LSTM_actual = revert_LSTM_shaping(test_X, test_y, LSTM_normalized_prediction, LSTM_scaler)\n"
   ]
  },
  {
   "attachments": {},
   "cell_type": "markdown",
   "metadata": {},
   "source": [
    "As we can see, the mean squared Error is lower than that of the previous model, and when plotting, we can see, that the prediction data does have a similar structure than the original data:"
   ]
  },
  {
   "cell_type": "code",
   "execution_count": 34,
   "metadata": {},
   "outputs": [
    {
     "data": {
      "text/plain": [
       "[<matplotlib.lines.Line2D at 0x29f8edf4fa0>]"
      ]
     },
     "execution_count": 34,
     "metadata": {},
     "output_type": "execute_result"
    },
    {
     "data": {
      "image/png": "[encoded data removed]",
      "text/plain": [
       "<Figure size 640x480 with 1 Axes>"
      ]
     },
     "metadata": {},
     "output_type": "display_data"
    }
   ],
   "source": [
    "#print(mean_squared_error(LSTM_prediction, LSTM_actual, squared=False))\n",
    "plt.plot(LSTM_actual, label=\"actual\")\n",
    "plt.plot(LSTM_prediction, label=\"prediction\")\n",
    "\n"
   ]
  },
  {
   "attachments": {},
   "cell_type": "markdown",
   "metadata": {},
   "source": [
    "But upon taking a closer look, we can see, that the data is mainly just shifted.\n",
    "\n",
    "Better than the real \"shifted\" data, but thats someting worth to improve."
   ]
  },
  {
   "cell_type": "code",
   "execution_count": 35,
   "metadata": {},
   "outputs": [
    {
     "data": {
      "text/plain": [
       "[<matplotlib.lines.Line2D at 0x29f8ee82580>]"
      ]
     },
     "execution_count": 35,
     "metadata": {},
     "output_type": "execute_result"
    },
    {
     "data": {
      "image/png": "[encoded data removed]",
      "text/plain": [
       "<Figure size 640x480 with 1 Axes>"
      ]
     },
     "metadata": {},
     "output_type": "display_data"
    }
   ],
   "source": [
    "#print(mean_squared_error(LSTM_prediction, LSTM_actual, squared=False))\n",
    "plt.plot(LSTM_actual[:24])\n",
    "plt.plot(LSTM_prediction[:24])\n",
    "\n",
    "\n"
   ]
  },
  {
   "cell_type": "code",
   "execution_count": 36,
   "metadata": {},
   "outputs": [
    {
     "name": "stdout",
     "output_type": "stream",
     "text": [
      "Root Mean Squared Error Very Short term: 38.530296325683594\n",
      "R2 Very Short term: -577.2580620021696\n",
      "\n",
      "Root Mean Squared Error Short term: 95.51487731933594\n",
      "R2 Short term: 0.14293781400840788\n",
      "\n",
      "Root Mean Squared Error Mid term: 102.67971801757812\n",
      "R2 Mid term: 0.5509189199890403\n",
      "\n",
      "Root Mean Squared Error Long term: 67.63587188720703\n",
      "R2 Long term: 0.6541038800438121\n",
      "\n"
     ]
    }
   ],
   "source": [
    "eval_result(LSTM_prediction, LSTM_actual)"
   ]
  },
  {
   "attachments": {},
   "cell_type": "markdown",
   "metadata": {},
   "source": [
    "Let's try to optimize this with taking more past timeseries datasets into account."
   ]
  },
  {
   "cell_type": "code",
   "execution_count": 37,
   "metadata": {},
   "outputs": [
    {
     "name": "stdout",
     "output_type": "stream",
     "text": [
      "(8236, 24, 4)\n",
      "(24, 4)\n",
      "Epoch 1/50\n",
      "115/115 - 13s - loss: 0.0225 - root_mean_squared_error: 0.1499 - 13s/epoch - 110ms/step\n",
      "Epoch 2/50\n",
      "115/115 - 2s - loss: 0.0158 - root_mean_squared_error: 0.1257 - 2s/epoch - 17ms/step\n",
      "Epoch 3/50\n",
      "115/115 - 2s - loss: 0.0131 - root_mean_squared_error: 0.1143 - 2s/epoch - 16ms/step\n",
      "Epoch 4/50\n",
      "115/115 - 2s - loss: 0.0112 - root_mean_squared_error: 0.1059 - 2s/epoch - 17ms/step\n",
      "Epoch 5/50\n",
      "115/115 - 2s - loss: 0.0097 - root_mean_squared_error: 0.0986 - 2s/epoch - 16ms/step\n",
      "Epoch 6/50\n",
      "115/115 - 2s - loss: 0.0080 - root_mean_squared_error: 0.0894 - 2s/epoch - 14ms/step\n",
      "Epoch 7/50\n",
      "115/115 - 2s - loss: 0.0063 - root_mean_squared_error: 0.0793 - 2s/epoch - 13ms/step\n",
      "Epoch 8/50\n",
      "115/115 - 2s - loss: 0.0059 - root_mean_squared_error: 0.0765 - 2s/epoch - 13ms/step\n",
      "Epoch 9/50\n",
      "115/115 - 2s - loss: 0.0053 - root_mean_squared_error: 0.0725 - 2s/epoch - 14ms/step\n",
      "Epoch 10/50\n",
      "115/115 - 2s - loss: 0.0049 - root_mean_squared_error: 0.0696 - 2s/epoch - 14ms/step\n",
      "Epoch 11/50\n",
      "115/115 - 1s - loss: 0.0045 - root_mean_squared_error: 0.0668 - 1s/epoch - 13ms/step\n",
      "Epoch 12/50\n",
      "115/115 - 1s - loss: 0.0041 - root_mean_squared_error: 0.0644 - 1s/epoch - 12ms/step\n",
      "Epoch 13/50\n",
      "115/115 - 1s - loss: 0.0038 - root_mean_squared_error: 0.0613 - 1s/epoch - 12ms/step\n",
      "Epoch 14/50\n",
      "115/115 - 1s - loss: 0.0034 - root_mean_squared_error: 0.0585 - 1s/epoch - 12ms/step\n",
      "Epoch 15/50\n",
      "115/115 - 1s - loss: 0.0030 - root_mean_squared_error: 0.0552 - 1s/epoch - 13ms/step\n",
      "Epoch 16/50\n",
      "115/115 - 1s - loss: 0.0028 - root_mean_squared_error: 0.0530 - 1s/epoch - 12ms/step\n",
      "Epoch 17/50\n",
      "115/115 - 2s - loss: 0.0026 - root_mean_squared_error: 0.0512 - 2s/epoch - 14ms/step\n",
      "Epoch 18/50\n",
      "115/115 - 2s - loss: 0.0025 - root_mean_squared_error: 0.0496 - 2s/epoch - 14ms/step\n",
      "Epoch 19/50\n",
      "115/115 - 2s - loss: 0.0023 - root_mean_squared_error: 0.0481 - 2s/epoch - 14ms/step\n",
      "Epoch 20/50\n",
      "115/115 - 2s - loss: 0.0022 - root_mean_squared_error: 0.0471 - 2s/epoch - 14ms/step\n",
      "Epoch 21/50\n",
      "115/115 - 2s - loss: 0.0021 - root_mean_squared_error: 0.0463 - 2s/epoch - 14ms/step\n",
      "Epoch 22/50\n",
      "115/115 - 1s - loss: 0.0021 - root_mean_squared_error: 0.0456 - 1s/epoch - 13ms/step\n",
      "Epoch 23/50\n",
      "115/115 - 1s - loss: 0.0020 - root_mean_squared_error: 0.0451 - 1s/epoch - 13ms/step\n",
      "Epoch 24/50\n",
      "115/115 - 1s - loss: 0.0020 - root_mean_squared_error: 0.0447 - 1s/epoch - 13ms/step\n",
      "Epoch 25/50\n",
      "115/115 - 1s - loss: 0.0020 - root_mean_squared_error: 0.0443 - 1s/epoch - 13ms/step\n",
      "Epoch 26/50\n",
      "115/115 - 1s - loss: 0.0019 - root_mean_squared_error: 0.0439 - 1s/epoch - 13ms/step\n",
      "Epoch 27/50\n",
      "115/115 - 2s - loss: 0.0019 - root_mean_squared_error: 0.0436 - 2s/epoch - 14ms/step\n",
      "Epoch 28/50\n",
      "115/115 - 2s - loss: 0.0019 - root_mean_squared_error: 0.0433 - 2s/epoch - 14ms/step\n",
      "Epoch 29/50\n",
      "115/115 - 1s - loss: 0.0018 - root_mean_squared_error: 0.0429 - 1s/epoch - 13ms/step\n",
      "Epoch 30/50\n",
      "115/115 - 2s - loss: 0.0018 - root_mean_squared_error: 0.0426 - 2s/epoch - 14ms/step\n",
      "Epoch 31/50\n",
      "115/115 - 2s - loss: 0.0018 - root_mean_squared_error: 0.0422 - 2s/epoch - 14ms/step\n",
      "Epoch 32/50\n",
      "115/115 - 2s - loss: 0.0018 - root_mean_squared_error: 0.0419 - 2s/epoch - 13ms/step\n",
      "Epoch 33/50\n",
      "115/115 - 1s - loss: 0.0017 - root_mean_squared_error: 0.0416 - 1s/epoch - 13ms/step\n",
      "Epoch 34/50\n",
      "115/115 - 1s - loss: 0.0017 - root_mean_squared_error: 0.0413 - 1s/epoch - 13ms/step\n",
      "Epoch 35/50\n",
      "115/115 - 2s - loss: 0.0017 - root_mean_squared_error: 0.0410 - 2s/epoch - 13ms/step\n",
      "Epoch 36/50\n",
      "115/115 - 1s - loss: 0.0017 - root_mean_squared_error: 0.0407 - 1s/epoch - 13ms/step\n",
      "Epoch 37/50\n",
      "115/115 - 1s - loss: 0.0016 - root_mean_squared_error: 0.0405 - 1s/epoch - 12ms/step\n",
      "Epoch 38/50\n",
      "115/115 - 1s - loss: 0.0016 - root_mean_squared_error: 0.0403 - 1s/epoch - 13ms/step\n",
      "Epoch 39/50\n",
      "115/115 - 1s - loss: 0.0016 - root_mean_squared_error: 0.0401 - 1s/epoch - 13ms/step\n",
      "Epoch 40/50\n",
      "115/115 - 1s - loss: 0.0016 - root_mean_squared_error: 0.0400 - 1s/epoch - 13ms/step\n",
      "Epoch 41/50\n",
      "115/115 - 2s - loss: 0.0016 - root_mean_squared_error: 0.0399 - 2s/epoch - 14ms/step\n",
      "Epoch 42/50\n",
      "115/115 - 2s - loss: 0.0016 - root_mean_squared_error: 0.0397 - 2s/epoch - 14ms/step\n",
      "Epoch 43/50\n",
      "115/115 - 1s - loss: 0.0016 - root_mean_squared_error: 0.0395 - 1s/epoch - 13ms/step\n",
      "Epoch 44/50\n",
      "115/115 - 1s - loss: 0.0015 - root_mean_squared_error: 0.0393 - 1s/epoch - 13ms/step\n",
      "Epoch 45/50\n",
      "115/115 - 1s - loss: 0.0015 - root_mean_squared_error: 0.0391 - 1s/epoch - 13ms/step\n",
      "Epoch 46/50\n",
      "115/115 - 1s - loss: 0.0015 - root_mean_squared_error: 0.0389 - 1s/epoch - 13ms/step\n",
      "Epoch 47/50\n",
      "115/115 - 1s - loss: 0.0015 - root_mean_squared_error: 0.0387 - 1s/epoch - 13ms/step\n",
      "Epoch 48/50\n",
      "115/115 - 1s - loss: 0.0015 - root_mean_squared_error: 0.0385 - 1s/epoch - 13ms/step\n",
      "Epoch 49/50\n",
      "115/115 - 1s - loss: 0.0015 - root_mean_squared_error: 0.0383 - 1s/epoch - 13ms/step\n",
      "Epoch 50/50\n",
      "115/115 - 1s - loss: 0.0015 - root_mean_squared_error: 0.0381 - 1s/epoch - 12ms/step\n",
      "16/16 [==============================] - 2s 9ms/step\n"
     ]
    },
    {
     "data": {
      "text/plain": [
       "[<matplotlib.lines.Line2D at 0x29f9337e4c0>]"
      ]
     },
     "execution_count": 37,
     "metadata": {},
     "output_type": "execute_result"
    },
    {
     "data": {
      "image/png": "[encoded data removed]",
      "text/plain": [
       "<Figure size 640x480 with 1 Axes>"
      ]
     },
     "metadata": {},
     "output_type": "display_data"
    }
   ],
   "source": [
    "n_hours = 24\n",
    "n_features = 4\n",
    "\n",
    "n_obs = n_hours * n_features\n",
    "\n",
    "reframed_mul = prepare_lstm_dataset(LSTM_data, LSTM_scaler, n_hours)\n",
    "\n",
    "values_mul = reframed_mul.values\n",
    "train_mul = values_mul[:-500, :]\n",
    "test_mul = values_mul[-500:, :]\n",
    "\n",
    "train_X_mul, train_y_mul = train_mul[:, :n_obs], train_mul[:, -n_features]\n",
    "test_X_mul, test_y_mul = test_mul[:, :n_obs], test_mul[:, -n_features]\n",
    "\n",
    "train_X_mul = train_X_mul.reshape((train_X_mul.shape[0], n_hours, n_features))\n",
    "test_X_mul = test_X_mul.reshape((test_X_mul.shape[0], n_hours, n_features))\n",
    "\n",
    "print(train_X_mul.shape)\n",
    "print((train_X_mul.shape[1], train_X_mul.shape[2]))\n",
    "\n",
    "model_mul = create_LSTM_model((train_X_mul.shape[1], train_X_mul.shape[2]))\n",
    "\n",
    "fit_LSTM_model(model_mul, train_X_mul, train_y_mul, epochs=50)\n",
    "\n",
    "# make a prediction\n",
    "LSTM_normalized_prediction_mul = model_mul.predict(test_X_mul)\n",
    "\n",
    "test_X_mul = test_X_mul.reshape(len(test_X_mul), n_obs)\n",
    "\n",
    "# invert scaling for forecast\n",
    "inv_yhat = np.concatenate((LSTM_normalized_prediction_mul, test_X_mul[:, -n_features+1:]), axis=1)\n",
    "inv_yhat = LSTM_scaler.inverse_transform(inv_yhat)\n",
    "inv_yhat = inv_yhat[:,0]\n",
    "# invert scaling for actual\n",
    "test_y = test_y_mul.reshape((len(test_y), 1))\n",
    "inv_y = np.concatenate((test_y, test_X_mul[:, -n_features+1:]), axis=1)\n",
    "inv_y = LSTM_scaler.inverse_transform(inv_y)\n",
    "inv_y = inv_y[:,0]\n",
    "\n",
    "#print(mean_squared_error(inv_yhat, inv_y, squared=False))\n",
    "plt.plot(inv_y)\n",
    "plt.plot(inv_yhat)\n",
    "\n",
    "\n"
   ]
  },
  {
   "cell_type": "code",
   "execution_count": 38,
   "metadata": {},
   "outputs": [
    {
     "name": "stdout",
     "output_type": "stream",
     "text": [
      "Root Mean Squared Error Very Short term: 37.377349853515625\n",
      "R2 Very Short term: -4.69022153380892\n",
      "\n",
      "Root Mean Squared Error Short term: 55.77738952636719\n",
      "R2 Short term: 0.3420628172654375\n",
      "\n",
      "Root Mean Squared Error Mid term: 52.03907012939453\n",
      "R2 Mid term: 0.8870188677298245\n",
      "\n",
      "Root Mean Squared Error Long term: 41.6324348449707\n",
      "R2 Long term: 0.8727093445272176\n",
      "\n"
     ]
    },
    {
     "data": {
      "text/plain": [
       "[<matplotlib.lines.Line2D at 0x29f934192b0>]"
      ]
     },
     "execution_count": 38,
     "metadata": {},
     "output_type": "execute_result"
    },
    {
     "data": {
      "image/png": "[encoded data removed]",
      "text/plain": [
       "<Figure size 640x480 with 1 Axes>"
      ]
     },
     "metadata": {},
     "output_type": "display_data"
    }
   ],
   "source": [
    "eval_result(inv_yhat, inv_y)\n",
    "\n",
    "plt.plot(inv_y[24:48])\n",
    "plt.plot(inv_yhat[24:48])\n",
    "\n"
   ]
  },
  {
   "attachments": {},
   "cell_type": "markdown",
   "metadata": {},
   "source": [
    "\n",
    "Lets try to optimize it even further with trying to add regularization / additional Layers and additional Epochs into account."
   ]
  },
  {
   "cell_type": "code",
   "execution_count": 39,
   "metadata": {},
   "outputs": [
    {
     "name": "stdout",
     "output_type": "stream",
     "text": [
      "Epoch 1/50\n",
      "114/114 - 16s - loss: 0.0135 - root_mean_squared_error: 0.1161 - 16s/epoch - 136ms/step\n",
      "Epoch 2/50\n",
      "114/114 - 5s - loss: 0.0107 - root_mean_squared_error: 0.1033 - 5s/epoch - 42ms/step\n",
      "Epoch 3/50\n",
      "114/114 - 4s - loss: 0.0102 - root_mean_squared_error: 0.1009 - 4s/epoch - 34ms/step\n",
      "Epoch 4/50\n",
      "114/114 - 3s - loss: 0.0086 - root_mean_squared_error: 0.0929 - 3s/epoch - 31ms/step\n",
      "Epoch 5/50\n",
      "114/114 - 3s - loss: 0.0077 - root_mean_squared_error: 0.0878 - 3s/epoch - 31ms/step\n",
      "Epoch 6/50\n",
      "114/114 - 4s - loss: 0.0072 - root_mean_squared_error: 0.0845 - 4s/epoch - 32ms/step\n",
      "Epoch 7/50\n",
      "114/114 - 4s - loss: 0.0068 - root_mean_squared_error: 0.0824 - 4s/epoch - 33ms/step\n",
      "Epoch 8/50\n",
      "114/114 - 4s - loss: 0.0065 - root_mean_squared_error: 0.0803 - 4s/epoch - 32ms/step\n",
      "Epoch 9/50\n",
      "114/114 - 4s - loss: 0.0061 - root_mean_squared_error: 0.0781 - 4s/epoch - 31ms/step\n",
      "Epoch 10/50\n",
      "114/114 - 4s - loss: 0.0057 - root_mean_squared_error: 0.0753 - 4s/epoch - 32ms/step\n",
      "Epoch 11/50\n",
      "114/114 - 4s - loss: 0.0051 - root_mean_squared_error: 0.0710 - 4s/epoch - 38ms/step\n",
      "Epoch 12/50\n",
      "114/114 - 4s - loss: 0.0046 - root_mean_squared_error: 0.0676 - 4s/epoch - 31ms/step\n",
      "Epoch 13/50\n",
      "114/114 - 4s - loss: 0.0039 - root_mean_squared_error: 0.0623 - 4s/epoch - 31ms/step\n",
      "Epoch 14/50\n",
      "114/114 - 4s - loss: 0.0036 - root_mean_squared_error: 0.0600 - 4s/epoch - 32ms/step\n",
      "Epoch 15/50\n",
      "114/114 - 4s - loss: 0.0033 - root_mean_squared_error: 0.0575 - 4s/epoch - 33ms/step\n",
      "Epoch 16/50\n",
      "114/114 - 4s - loss: 0.0031 - root_mean_squared_error: 0.0551 - 4s/epoch - 32ms/step\n",
      "Epoch 17/50\n",
      "114/114 - 3s - loss: 0.0028 - root_mean_squared_error: 0.0528 - 3s/epoch - 30ms/step\n",
      "Epoch 18/50\n",
      "114/114 - 3s - loss: 0.0027 - root_mean_squared_error: 0.0514 - 3s/epoch - 31ms/step\n",
      "Epoch 19/50\n",
      "114/114 - 4s - loss: 0.0025 - root_mean_squared_error: 0.0501 - 4s/epoch - 32ms/step\n",
      "Epoch 20/50\n",
      "114/114 - 4s - loss: 0.0024 - root_mean_squared_error: 0.0490 - 4s/epoch - 33ms/step\n",
      "Epoch 21/50\n",
      "114/114 - 3s - loss: 0.0023 - root_mean_squared_error: 0.0480 - 3s/epoch - 30ms/step\n",
      "Epoch 22/50\n",
      "114/114 - 4s - loss: 0.0023 - root_mean_squared_error: 0.0473 - 4s/epoch - 31ms/step\n",
      "Epoch 23/50\n",
      "114/114 - 4s - loss: 0.0022 - root_mean_squared_error: 0.0465 - 4s/epoch - 34ms/step\n",
      "Epoch 24/50\n",
      "114/114 - 4s - loss: 0.0021 - root_mean_squared_error: 0.0459 - 4s/epoch - 38ms/step\n",
      "Epoch 25/50\n",
      "114/114 - 4s - loss: 0.0021 - root_mean_squared_error: 0.0453 - 4s/epoch - 32ms/step\n",
      "Epoch 26/50\n",
      "114/114 - 4s - loss: 0.0020 - root_mean_squared_error: 0.0447 - 4s/epoch - 35ms/step\n",
      "Epoch 27/50\n",
      "114/114 - 4s - loss: 0.0020 - root_mean_squared_error: 0.0441 - 4s/epoch - 31ms/step\n",
      "Epoch 28/50\n",
      "114/114 - 4s - loss: 0.0019 - root_mean_squared_error: 0.0435 - 4s/epoch - 37ms/step\n",
      "Epoch 29/50\n",
      "114/114 - 4s - loss: 0.0019 - root_mean_squared_error: 0.0430 - 4s/epoch - 32ms/step\n",
      "Epoch 30/50\n",
      "114/114 - 4s - loss: 0.0018 - root_mean_squared_error: 0.0425 - 4s/epoch - 32ms/step\n",
      "Epoch 31/50\n",
      "114/114 - 4s - loss: 0.0018 - root_mean_squared_error: 0.0421 - 4s/epoch - 31ms/step\n",
      "Epoch 32/50\n",
      "114/114 - 4s - loss: 0.0018 - root_mean_squared_error: 0.0417 - 4s/epoch - 35ms/step\n",
      "Epoch 33/50\n",
      "114/114 - 4s - loss: 0.0017 - root_mean_squared_error: 0.0414 - 4s/epoch - 33ms/step\n",
      "Epoch 34/50\n",
      "114/114 - 4s - loss: 0.0017 - root_mean_squared_error: 0.0411 - 4s/epoch - 35ms/step\n",
      "Epoch 35/50\n",
      "114/114 - 4s - loss: 0.0017 - root_mean_squared_error: 0.0408 - 4s/epoch - 31ms/step\n",
      "Epoch 36/50\n",
      "114/114 - 4s - loss: 0.0017 - root_mean_squared_error: 0.0405 - 4s/epoch - 35ms/step\n",
      "Epoch 37/50\n",
      "114/114 - 4s - loss: 0.0016 - root_mean_squared_error: 0.0402 - 4s/epoch - 34ms/step\n",
      "Epoch 38/50\n",
      "114/114 - 4s - loss: 0.0016 - root_mean_squared_error: 0.0400 - 4s/epoch - 32ms/step\n",
      "Epoch 39/50\n",
      "114/114 - 4s - loss: 0.0016 - root_mean_squared_error: 0.0399 - 4s/epoch - 31ms/step\n",
      "Epoch 40/50\n",
      "114/114 - 4s - loss: 0.0016 - root_mean_squared_error: 0.0396 - 4s/epoch - 33ms/step\n",
      "Epoch 41/50\n",
      "114/114 - 4s - loss: 0.0016 - root_mean_squared_error: 0.0394 - 4s/epoch - 37ms/step\n",
      "Epoch 42/50\n",
      "114/114 - 5s - loss: 0.0016 - root_mean_squared_error: 0.0394 - 5s/epoch - 41ms/step\n",
      "Epoch 43/50\n",
      "114/114 - 4s - loss: 0.0016 - root_mean_squared_error: 0.0394 - 4s/epoch - 33ms/step\n",
      "Epoch 44/50\n",
      "114/114 - 4s - loss: 0.0016 - root_mean_squared_error: 0.0392 - 4s/epoch - 36ms/step\n",
      "Epoch 45/50\n",
      "114/114 - 4s - loss: 0.0015 - root_mean_squared_error: 0.0390 - 4s/epoch - 36ms/step\n",
      "Epoch 46/50\n",
      "114/114 - 4s - loss: 0.0015 - root_mean_squared_error: 0.0388 - 4s/epoch - 38ms/step\n",
      "Epoch 47/50\n",
      "114/114 - 4s - loss: 0.0015 - root_mean_squared_error: 0.0388 - 4s/epoch - 33ms/step\n",
      "Epoch 48/50\n",
      "114/114 - 4s - loss: 0.0015 - root_mean_squared_error: 0.0387 - 4s/epoch - 36ms/step\n",
      "Epoch 49/50\n",
      "114/114 - 4s - loss: 0.0015 - root_mean_squared_error: 0.0385 - 4s/epoch - 38ms/step\n",
      "Epoch 50/50\n",
      "114/114 - 4s - loss: 0.0015 - root_mean_squared_error: 0.0383 - 4s/epoch - 33ms/step\n",
      "16/16 [==============================] - 2s 15ms/step\n",
      "Root Mean Squared Error Very Short term: 19.48737335205078\n",
      "R2 Very Short term: -0.28008574510134165\n",
      "\n",
      "Root Mean Squared Error Short term: 59.80094528198242\n",
      "R2 Short term: 0.48744004029961496\n",
      "\n",
      "Root Mean Squared Error Mid term: 57.31565475463867\n",
      "R2 Mid term: 0.8387009067553545\n",
      "\n",
      "Root Mean Squared Error Long term: 44.06355667114258\n",
      "R2 Long term: 0.8440998367300063\n",
      "\n"
     ]
    },
    {
     "data": {
      "image/png": "[encoded data removed]",
      "text/plain": [
       "<Figure size 640x480 with 1 Axes>"
      ]
     },
     "metadata": {},
     "output_type": "display_data"
    }
   ],
   "source": [
    "\n",
    "n_hours = 72\n",
    "n_features = 4\n",
    "\n",
    "n_obs = n_hours * n_features\n",
    "\n",
    "reframed_opt = prepare_lstm_dataset(LSTM_data, LSTM_scaler, n_hours)\n",
    "\n",
    "values_opt = reframed_opt.values\n",
    "train_opt = values_opt[:-500, :]\n",
    "test_opt = values_opt[-500:, :]\n",
    "\n",
    "train_X_opt, train_y_opt = train_opt[:, :n_obs], train_opt[:, -n_features]\n",
    "test_X_opt, test_y_opt = test_opt[:, :n_obs], test_opt[:, -n_features]\n",
    "\n",
    "train_X_opt = train_X_opt.reshape((train_X_opt.shape[0], n_hours, n_features))\n",
    "test_X_opt = test_X_opt.reshape((test_X_opt.shape[0], n_hours, n_features))\n",
    "\n",
    "#Creating a bigger model\n",
    "model_opt = tf.keras.models.Sequential()\n",
    "model_opt.add(LSTM(50, input_shape=(train_X_opt.shape[1], train_X_opt.shape[2]), activity_regularizer=tf.keras.regularizers.l1_l2(l1=1e-5, l2=1e-5)))\n",
    "model_opt.add(Dense(30))\n",
    "model_opt.add(Dense(20))\n",
    "model_opt.add(Dense(1))\n",
    "model_opt.compile(loss='mean_squared_error', optimizer='adam', metrics=[tf.keras.metrics.RootMeanSquaredError()])\n",
    "\n",
    "#print(train_X_opt.shape)\n",
    "#print(train_y_opt.shape)\n",
    "\n",
    "fit_LSTM_model(model_opt, train_X_opt, train_y_opt, epochs=50)\n",
    "\n",
    "# make a prediction\n",
    "LSTM_normalized_prediction_opt = model_opt.predict(test_X_opt)\n",
    "\n",
    "test_X_opt = test_X_opt.reshape(len(test_X_opt), n_obs)\n",
    "\n",
    "# invert scaling for forecast\n",
    "inv_yhat = np.concatenate((LSTM_normalized_prediction_opt, test_X_opt[:, -n_features+1:]), axis=1)\n",
    "inv_yhat = LSTM_scaler.inverse_transform(inv_yhat)\n",
    "inv_yhat = inv_yhat[:,0]\n",
    "# invert scaling for actual\n",
    "test_y = test_y_opt.reshape((len(test_y), 1))\n",
    "inv_y = np.concatenate((test_y, test_X_opt[:, -n_features+1:]), axis=1)\n",
    "inv_y = LSTM_scaler.inverse_transform(inv_y)\n",
    "inv_y = inv_y[:,0]\n",
    "\n",
    "#print(mean_squared_error(inv_yhat, inv_y, squared=False))\n",
    "plt.plot(inv_yhat)\n",
    "plt.plot(inv_y)\n",
    "#print(mean_absolute_error(inv_yhat, inv_y))\n",
    "\n",
    "\n",
    "eval_result(inv_yhat, inv_y)\n"
   ]
  },
  {
   "cell_type": "code",
   "execution_count": 50,
   "metadata": {},
   "outputs": [
    {
     "name": "stdout",
     "output_type": "stream",
     "text": [
      "Root Mean Squared Error Very Short term: 19.48737335205078\n",
      "R2 Very Short term: -0.28008574510134165\n",
      "\n",
      "Root Mean Squared Error Short term: 59.80094528198242\n",
      "R2 Short term: 0.48744004029961496\n",
      "\n",
      "Root Mean Squared Error Mid term: 57.31565475463867\n",
      "R2 Mid term: 0.8387009067553545\n",
      "\n",
      "Root Mean Squared Error Long term: 44.06355667114258\n",
      "R2 Long term: 0.8440998367300063\n",
      "\n"
     ]
    }
   ],
   "source": [
    "eval_result(inv_yhat, inv_y)"
   ]
  },
  {
   "cell_type": "code",
   "execution_count": 40,
   "metadata": {},
   "outputs": [
    {
     "data": {
      "text/plain": [
       "[<matplotlib.lines.Line2D at 0x29f8ffabdc0>]"
      ]
     },
     "execution_count": 40,
     "metadata": {},
     "output_type": "execute_result"
    },
    {
     "data": {
      "image/png": "[encoded data removed]",
      "text/plain": [
       "<Figure size 640x480 with 1 Axes>"
      ]
     },
     "metadata": {},
     "output_type": "display_data"
    }
   ],
   "source": [
    "\n",
    "plt.plot(inv_y[24:48])\n",
    "plt.plot(inv_yhat[24:48])\n",
    "\n",
    "\n",
    "\n"
   ]
  },
  {
   "cell_type": "code",
   "execution_count": 51,
   "metadata": {},
   "outputs": [],
   "source": [
    "Poly_data = trip_data_website.groupby([\n",
    "    trip_data_website[\"start_time\"].dt.month, \n",
    "    trip_data_website[\"start_time\"].dt.day, \n",
    "    trip_data_website[\"start_time\"].dt.weekday, \n",
    "    trip_data_website[\"start_time\"].dt.hour,\n",
    "    trip_data_website[\"precip\"],\n",
    "    np.floor(trip_data_website[\"min_temp\"])]).size().rename(\"hourly_demand\")#.sample(frac=1)\n",
    "\n",
    "Poly_data.index.rename([\"month\", \"day\", \"weekday\", \"hour\", \"precip\", \"min_temp\"], inplace=True)\n",
    "Poly_data = Poly_data.reset_index()"
   ]
  },
  {
   "cell_type": "code",
   "execution_count": 47,
   "metadata": {},
   "outputs": [
    {
     "ename": "SyntaxError",
     "evalue": "invalid non-printable character U+00A0 (819452259.py, line 34)",
     "output_type": "error",
     "traceback": [
      "\u001b[1;36m  File \u001b[1;32m\"C:\\Users\\Timo_\\AppData\\Local\\Temp\\ipykernel_1984\\819452259.py\"\u001b[1;36m, line \u001b[1;32m34\u001b[0m\n\u001b[1;33m    return #JD\u001b[0m\n\u001b[1;37m    ^\u001b[0m\n\u001b[1;31mSyntaxError\u001b[0m\u001b[1;31m:\u001b[0m invalid non-printable character U+00A0\n"
     ]
    }
   ],
   "source": [
    "#JD\n",
    "def create_test_scenarios(poly_degree):\n",
    "    scaler = StandardScaler()\n",
    "\n",
    "    months = PolynomialFeatures(degree=poly_degree).fit_transform(scaler.fit_transform(Poly_data[\"month\"].to_frame().to_numpy()))\n",
    "    weekdays = PolynomialFeatures(degree=poly_degree).fit_transform(scaler.fit_transform(Poly_data[\"weekday\"].to_frame().to_numpy()))\n",
    "    hours = PolynomialFeatures(degree=poly_degree).fit_transform(scaler.fit_transform(Poly_data[\"hour\"].to_frame().to_numpy()))\n",
    "    precip = Poly_data[\"precip\"]\n",
    "    min_temp = PolynomialFeatures(degree=poly_degree).fit_transform(scaler.fit_transform(Poly_data[\"min_temp\"].to_frame().to_numpy()))\n",
    "\n",
    "    hourly_demand = Poly_data[\"hourly_demand\"].to_frame().to_numpy()\n",
    "\n",
    "    months_df = pd.DataFrame(months, columns=[f\"months_poly_{n}\" for n in range(0, len(months[0]))])\n",
    "    weekdays_df = pd.DataFrame(weekdays, columns=[f\"weekdays_{n}\" for n in range(0, len(weekdays[0]))])\n",
    "    hours_df = pd.DataFrame(hours, columns=[f\"hours_{n}\" for n in range(0, len(hours[0]))])\n",
    "    precip_df = pd.DataFrame(precip, columns=[\"precip\"])\n",
    "    min_temp_df = pd.DataFrame(min_temp, columns=[f\"min_temp_{n}\" for n in range(0, len(min_temp[0]))])\n",
    "    \n",
    "    full_data = pd.merge(months_df, weekdays_df, left_index=True, right_index=True)\n",
    "    full_data = full_data.merge(hours_df, left_index=True, right_index=True)\n",
    "    full_data = full_data.merge(precip_df, left_index=True, right_index=True)\n",
    "    \n",
    "    return full_data.merge(min_temp_df, left_index=True, right_index=True), hourly_demand\n",
    "\n",
    "# Creates a Regression model with a feature Layer\n",
    "def prediction_model(feature_layer, num_layers):\n",
    "    feature_number = len(pd.DataFrame(feature_layer).columns)\n",
    "    model= tf.keras.models.Sequential()\n",
    "    model.add(tf.keras.layers.Dense(units=feature_number, input_shape=(feature_number,)))\n",
    "    # Create \"num_layer\" layers with each one getting smaller by the index of layer (First hidden layer => /2, Second hidden layer => /3, ....)\n",
    "    [model.add(tf.keras.layers.Dense(units=feature_number//(number_of_layer + 1))) for number_of_layer in range(1, num_layers)]\n",
    "    model.add(tf.keras.layers.Dense(units=1)) \n",
    "    model.compile(optimizer=\"adam\",loss=\"mean_squared_error\",metrics=[tf.keras.metrics.RootMeanSquaredError()])\n",
    "    return #JD\n",
    "def create_test_scenarios(poly_degree):\n",
    "    scaler = StandardScaler()\n",
    "\n",
    "    months = PolynomialFeatures(degree=poly_degree).fit_transform(scaler.fit_transform(Poly_data[\"month\"].to_frame().to_numpy()))\n",
    "    weekdays = PolynomialFeatures(degree=poly_degree).fit_transform(scaler.fit_transform(Poly_data[\"weekday\"].to_frame().to_numpy()))\n",
    "    hours = PolynomialFeatures(degree=poly_degree).fit_transform(scaler.fit_transform(Poly_data[\"hour\"].to_frame().to_numpy()))\n",
    "    precip = Poly_data[\"precip\"]\n",
    "    min_temp = PolynomialFeatures(degree=poly_degree).fit_transform(scaler.fit_transform(Poly_data[\"min_temp\"].to_frame().to_numpy()))\n",
    "\n",
    "    hourly_demand = Poly_data[\"hourly_demand\"].to_frame().to_numpy()\n",
    "\n",
    "    months_df = pd.DataFrame(months, columns=[f\"months_poly_{n}\" for n in range(0, len(months[0]))])\n",
    "    weekdays_df = pd.DataFrame(weekdays, columns=[f\"weekdays_{n}\" for n in range(0, len(weekdays[0]))])\n",
    "    hours_df = pd.DataFrame(hours, columns=[f\"hours_{n}\" for n in range(0, len(hours[0]))])\n",
    "    precip_df = pd.DataFrame(precip, columns=[\"precip\"])\n",
    "    min_temp_df = pd.DataFrame(min_temp, columns=[f\"min_temp_{n}\" for n in range(0, len(min_temp[0]))])\n",
    "    \n",
    "    full_data = pd.merge(months_df, weekdays_df, left_index=True, right_index=True)\n",
    "    full_data = full_data.merge(hours_df, left_index=True, right_index=True)\n",
    "    full_data = full_data.merge(precip_df, left_index=True, right_index=True)\n",
    "    \n",
    "    return full_data.merge(min_temp_df, left_index=True, right_index=True), hourly_demand\n",
    "\n",
    "# Creates a Regression model with a feature Layer\n",
    "def prediction_model(feature_layer, num_layers):\n",
    "    feature_number = len(pd.DataFrame(feature_layer).columns)\n",
    "    model= tf.keras.models.Sequential()\n",
    "    model.add(tf.keras.layers.Dense(units=feature_number, input_shape=(feature_number,)))\n",
    "    # Create \"num_layer\" layers with each one getting smaller by the index of layer (First hidden layer => /2, Second hidden layer => /3, ....)\n",
    "    [model.add(tf.keras.layers.Dense(units=feature_number//(number_of_layer + 1))) for number_of_layer in range(1, num_layers)]\n",
    "    model.add(tf.keras.layers.Dense(units=1)) \n",
    "    model.compile(optimizer=\"adam\",loss=\"mean_squared_error\",metrics=[tf.keras.metrics.RootMeanSquaredError()])\n",
    "return model "
   ]
  },
  {
   "cell_type": "code",
   "execution_count": 48,
   "metadata": {},
   "outputs": [],
   "source": [
    "# Feed a dataset into the model in order to train it.\n",
    "def train_model(model, X, Y, epochs, batch_size):\n",
    "    history = model.fit(x=X, y=Y, batch_size=batch_size,\n",
    "                      epochs=epochs, shuffle=True, verbose=0)\n",
    "    epochs = history.epoch\n",
    "    rmse = pd.DataFrame(history.history)[\"root_mean_squared_error\"]\n",
    "    return epochs, rmse   \n",
    "\n",
    "def create_single_model(features, labels, epochs, batch_size, num_layers):\n",
    "    model = prediction_model(features, num_layers)\n",
    "    train_model(model, features, labels , epochs, batch_size)\n",
    "    return model\n",
    "\n",
    "\n",
    "def eval_model(features, labels, epochs, batch_size, num_layers):\n",
    "    kfold = KFold(n_splits=10)\n",
    "    fold_info = []\n",
    "    for train, test in kfold.split(features, labels):\n",
    "        print(\"kfold finished!\")\n",
    "        model = prediction_model(features, num_layers)\n",
    "        \n",
    "        train_model(model, features[train], labels[train] , epochs, batch_size)\n",
    "        \n",
    "        scores = model.evaluate(features[test], labels[test], verbose=0)\n",
    "        fold_info.append(scores)\n",
    "    return pd.DataFrame(fold_info)"
   ]
  },
  {
   "cell_type": "code",
   "execution_count": 49,
   "metadata": {},
   "outputs": [
    {
     "ename": "NameError",
     "evalue": "name 'create_test_scenarios' is not defined",
     "output_type": "error",
     "traceback": [
      "\u001b[1;31m---------------------------------------------------------------------------\u001b[0m",
      "\u001b[1;31mNameError\u001b[0m                                 Traceback (most recent call last)",
      "\u001b[1;32m~\\AppData\\Local\\Temp\\ipykernel_1984\\2259827339.py\u001b[0m in \u001b[0;36m<module>\u001b[1;34m\u001b[0m\n\u001b[0;32m      9\u001b[0m \u001b[0mPoly_data_features\u001b[0m \u001b[1;33m=\u001b[0m \u001b[0mPolynomialFeatures\u001b[0m\u001b[1;33m(\u001b[0m\u001b[0mdegree\u001b[0m\u001b[1;33m=\u001b[0m\u001b[1;36m5\u001b[0m\u001b[1;33m)\u001b[0m\u001b[1;33m.\u001b[0m\u001b[0mfit_transform\u001b[0m\u001b[1;33m(\u001b[0m\u001b[0mPoly_scaler\u001b[0m\u001b[1;33m.\u001b[0m\u001b[0mfit_transform\u001b[0m\u001b[1;33m(\u001b[0m\u001b[0mPoly_data_copy\u001b[0m\u001b[1;33m)\u001b[0m\u001b[1;33m)\u001b[0m\u001b[1;33m\u001b[0m\u001b[1;33m\u001b[0m\u001b[0m\n\u001b[0;32m     10\u001b[0m \u001b[1;33m\u001b[0m\u001b[0m\n\u001b[1;32m---> 11\u001b[1;33m \u001b[0mpoly_data_features_low_poly\u001b[0m\u001b[1;33m,\u001b[0m \u001b[0mpoly_data_label_low_poly\u001b[0m \u001b[1;33m=\u001b[0m \u001b[0mcreate_test_scenarios\u001b[0m\u001b[1;33m(\u001b[0m\u001b[1;36m5\u001b[0m\u001b[1;33m)\u001b[0m\u001b[1;33m\u001b[0m\u001b[1;33m\u001b[0m\u001b[0m\n\u001b[0m\u001b[0;32m     12\u001b[0m \u001b[1;33m\u001b[0m\u001b[0m\n\u001b[0;32m     13\u001b[0m \u001b[0mHigh_poly_eval\u001b[0m \u001b[1;33m=\u001b[0m \u001b[0meval_model\u001b[0m\u001b[1;33m(\u001b[0m\u001b[0mPoly_data_features\u001b[0m\u001b[1;33m,\u001b[0m \u001b[0mPoly_data_label\u001b[0m\u001b[1;33m,\u001b[0m \u001b[1;36m100\u001b[0m\u001b[1;33m,\u001b[0m \u001b[1;36m200\u001b[0m\u001b[1;33m,\u001b[0m \u001b[1;36m1\u001b[0m\u001b[1;33m)\u001b[0m\u001b[1;33m\u001b[0m\u001b[1;33m\u001b[0m\u001b[0m\n",
      "\u001b[1;31mNameError\u001b[0m: name 'create_test_scenarios' is not defined"
     ]
    }
   ],
   "source": [
    "LabelEncoder\n",
    "import tensorflow as tf\n",
    "\n",
    "Poly_scaler = StandardScaler()\n",
    "\n",
    "Poly_data_copy = Poly_data.copy()\n",
    "\n",
    "Poly_data_label = Poly_data_copy.pop(\"hourly_demand\")\n",
    "Poly_data_features = PolynomialFeatures(degree=5).fit_transform(Poly_scaler.fit_transform(Poly_data_copy))\n",
    "\n",
    "poly_data_features_low_poly, poly_data_label_low_poly = create_test_scenarios(5)\n",
    "\n",
    "High_poly_eval = eval_model(Poly_data_features, Poly_data_label, 100, 200, 1)\n",
    "Low_poly_eval = eval_model(poly_data_features_low_poly.values, poly_data_label_low_poly, 100, 200, 1)\n",
    "\n",
    "print(High_poly_eval)\n",
    "print(Low_poly_eval)\n",
    "\n",
    "print(High_poly_eval.mean()[1])\n",
    "print(Low_poly_eval.mean()[1])"
   ]
  },
  {
   "cell_type": "code",
   "execution_count": null,
   "metadata": {},
   "outputs": [],
   "source": [
    "model = create_single_model(poly_data_features_low_poly[:-500], poly_data_label_low_poly[:-500], 1000, 200, 1)\n",
    "poly_predictions = model.predict(poly_data_features_low_poly[-500:])\n",
    "\n",
    "plt.plot(poly_data_label_low_poly[-500:])\n",
    "plt.plot(poly_predictions)\n",
    "\n",
    "eval_result(poly_predictions, poly_data_label_low_poly[-500:])"
   ]
  },
  {
   "attachments": {},
   "cell_type": "markdown",
   "metadata": {},
   "source": [
    "### Evaluation\n"
   ]
  },
  {
   "cell_type": "code",
   "execution_count": 53,
   "metadata": {},
   "outputs": [
    {
     "name": "stdout",
     "output_type": "stream",
     "text": [
      "Root Mean Squared Error Very Short term: 19.48737335205078\n",
      "R2 Very Short term: -0.28008574510134165\n",
      "\n",
      "Root Mean Squared Error Short term: 59.80094528198242\n",
      "R2 Short term: 0.48744004029961496\n",
      "\n",
      "Root Mean Squared Error Mid term: 57.31565475463867\n",
      "R2 Mid term: 0.8387009067553545\n",
      "\n",
      "Root Mean Squared Error Long term: 44.06355667114258\n",
      "R2 Long term: 0.8440998367300063\n",
      "\n",
      "Root Mean Squared Error Very Short term: 19.48737335205078\n",
      "R2 Very Short term: -0.28008574510134165\n",
      "\n",
      "Root Mean Squared Error Short term: 59.80094528198242\n",
      "R2 Short term: 0.48744004029961496\n",
      "\n",
      "Root Mean Squared Error Mid term: 57.31565475463867\n",
      "R2 Mid term: 0.8387009067553545\n",
      "\n",
      "Root Mean Squared Error Long term: 44.06355667114258\n",
      "R2 Long term: 0.8440998367300063\n",
      "\n"
     ]
    },
    {
     "data": {
      "text/html": [
       "<style type=\"text/css\">\n",
       "</style>\n",
       "<table id=\"T_7ff5c\">\n",
       "  <thead>\n",
       "  </thead>\n",
       "  <tbody>\n",
       "  </tbody>\n",
       "</table>\n"
      ],
      "text/plain": [
       "<pandas.io.formats.style.Styler at 0x29f8fb093d0>"
      ]
     },
     "execution_count": 53,
     "metadata": {},
     "output_type": "execute_result"
    }
   ],
   "source": [
    "Eval = pd.DataFrame (eval_result(inv_yhat, inv_y),eval_result(inv_yhat, inv_y))\n",
    "Eval.style"
   ]
  },
  {
   "cell_type": "code",
   "execution_count": 79,
   "metadata": {},
   "outputs": [
    {
     "data": {
      "text/plain": [
       "59.800945"
      ]
     },
     "execution_count": 79,
     "metadata": {},
     "output_type": "execute_result"
    }
   ],
   "source": [
    "#Definition RMSE und R2\n",
    "\n",
    "def RMSE_veryshort(predicted_values, actual_values):\n",
    "    return(mean_squared_error(predicted_values[:1], actual_values[:1], squared=False))\n",
    "\n",
    "def RMSE_short(predicted_values, actual_values):  \n",
    "    return(mean_squared_error(predicted_values[:10], actual_values[:10], squared=False))\n",
    "    \n",
    "def RMSE_mid(predicted_values, actual_values):    \n",
    "    return(mean_squared_error(predicted_values[:100], actual_values[:100], squared=False))\n",
    "\n",
    "def RMSE_long(predicted_values, actual_values):  \n",
    "    return(mean_squared_error(predicted_values, actual_values, squared=False))\n",
    "\n",
    "def R2_veryshort(predicted_values, actual_values):\n",
    "    return(r2_score(predicted_values[:2], actual_values[:2]))\n",
    "\n",
    "def R2_short(predicted_values, actual_values):\n",
    "    return(r2_score(predicted_values[:10], actual_values[:10],))\n",
    "\n",
    "def R2_mid(predicted_values, actual_values):\n",
    "    return(r2_score(predicted_values[:100], actual_values[:100]))\n",
    "\n",
    "def R2_long(predicted_values, actual_values):\n",
    "    return(r2_score(predicted_values, actual_values))\n",
    "\n"
   ]
  },
  {
   "cell_type": "code",
   "execution_count": 87,
   "metadata": {},
   "outputs": [
    {
     "ename": "NameError",
     "evalue": "name 'poly_predictions' is not defined",
     "output_type": "error",
     "traceback": [
      "\u001b[1;31m---------------------------------------------------------------------------\u001b[0m",
      "\u001b[1;31mNameError\u001b[0m                                 Traceback (most recent call last)",
      "\u001b[1;32m~\\AppData\\Local\\Temp\\ipykernel_1984\\2312414447.py\u001b[0m in \u001b[0;36m<module>\u001b[1;34m\u001b[0m\n\u001b[0;32m      1\u001b[0m Eval_RMSE = {'Model' : ['LSTM', 'POLY', 'ARIMA'],\n\u001b[1;32m----> 2\u001b[1;33m \u001b[1;34m'RMSE very short term'\u001b[0m \u001b[1;33m:\u001b[0m \u001b[1;33m[\u001b[0m\u001b[0mRMSE_veryshort\u001b[0m\u001b[1;33m(\u001b[0m\u001b[0minv_yhat\u001b[0m\u001b[1;33m,\u001b[0m \u001b[0minv_y\u001b[0m\u001b[1;33m)\u001b[0m\u001b[1;33m,\u001b[0m \u001b[0mRMSE_veryshort\u001b[0m\u001b[1;33m(\u001b[0m\u001b[0mpoly_predictions\u001b[0m\u001b[1;33m,\u001b[0m \u001b[0mpoly_data_label_low_poly\u001b[0m\u001b[1;33m[\u001b[0m\u001b[1;33m-\u001b[0m\u001b[1;36m500\u001b[0m\u001b[1;33m:\u001b[0m\u001b[1;33m]\u001b[0m\u001b[1;33m)\u001b[0m\u001b[1;33m,\u001b[0m \u001b[1;34m'2'\u001b[0m\u001b[1;33m]\u001b[0m\u001b[1;33m,\u001b[0m\u001b[1;33m\u001b[0m\u001b[1;33m\u001b[0m\u001b[0m\n\u001b[0m\u001b[0;32m      3\u001b[0m \u001b[1;34m'RMSE short term'\u001b[0m \u001b[1;33m:\u001b[0m \u001b[1;33m[\u001b[0m\u001b[0mRMSE_short\u001b[0m\u001b[1;33m(\u001b[0m\u001b[0minv_yhat\u001b[0m\u001b[1;33m,\u001b[0m \u001b[0minv_y\u001b[0m\u001b[1;33m)\u001b[0m\u001b[1;33m,\u001b[0m \u001b[0mRMSE_short\u001b[0m\u001b[1;33m(\u001b[0m\u001b[0mpoly_predictions\u001b[0m\u001b[1;33m,\u001b[0m \u001b[0mpoly_data_label_low_poly\u001b[0m\u001b[1;33m[\u001b[0m\u001b[1;33m-\u001b[0m\u001b[1;36m500\u001b[0m\u001b[1;33m:\u001b[0m\u001b[1;33m]\u001b[0m\u001b[1;33m)\u001b[0m\u001b[1;33m,\u001b[0m \u001b[1;34m'2'\u001b[0m\u001b[1;33m]\u001b[0m\u001b[1;33m,\u001b[0m\u001b[1;33m\u001b[0m\u001b[1;33m\u001b[0m\u001b[0m\n\u001b[0;32m      4\u001b[0m \u001b[1;34m'RMSE mid term'\u001b[0m \u001b[1;33m:\u001b[0m \u001b[1;33m[\u001b[0m\u001b[0mRMSE_mid\u001b[0m\u001b[1;33m(\u001b[0m\u001b[0minv_yhat\u001b[0m\u001b[1;33m,\u001b[0m \u001b[0minv_y\u001b[0m\u001b[1;33m)\u001b[0m\u001b[1;33m,\u001b[0m \u001b[0mRMSE_mid\u001b[0m\u001b[1;33m(\u001b[0m\u001b[0mpoly_predictions\u001b[0m\u001b[1;33m,\u001b[0m \u001b[0mpoly_data_label_low_poly\u001b[0m\u001b[1;33m[\u001b[0m\u001b[1;33m-\u001b[0m\u001b[1;36m500\u001b[0m\u001b[1;33m:\u001b[0m\u001b[1;33m]\u001b[0m\u001b[1;33m)\u001b[0m\u001b[1;33m,\u001b[0m \u001b[1;34m'2'\u001b[0m\u001b[1;33m]\u001b[0m\u001b[1;33m,\u001b[0m\u001b[1;33m\u001b[0m\u001b[1;33m\u001b[0m\u001b[0m\n\u001b[0;32m      5\u001b[0m \u001b[1;34m'RMSE long term'\u001b[0m \u001b[1;33m:\u001b[0m \u001b[1;33m[\u001b[0m\u001b[0mRMSE_long\u001b[0m\u001b[1;33m(\u001b[0m\u001b[0minv_yhat\u001b[0m\u001b[1;33m,\u001b[0m \u001b[0minv_y\u001b[0m\u001b[1;33m)\u001b[0m\u001b[1;33m,\u001b[0m \u001b[0mRMSE_long\u001b[0m\u001b[1;33m(\u001b[0m\u001b[0mpoly_predictions\u001b[0m\u001b[1;33m,\u001b[0m \u001b[0mpoly_data_label_low_poly\u001b[0m\u001b[1;33m[\u001b[0m\u001b[1;33m-\u001b[0m\u001b[1;36m500\u001b[0m\u001b[1;33m:\u001b[0m\u001b[1;33m]\u001b[0m\u001b[1;33m)\u001b[0m\u001b[1;33m,\u001b[0m \u001b[1;34m'2'\u001b[0m\u001b[1;33m]\u001b[0m\u001b[1;33m\u001b[0m\u001b[1;33m\u001b[0m\u001b[0m\n",
      "\u001b[1;31mNameError\u001b[0m: name 'poly_predictions' is not defined"
     ]
    }
   ],
   "source": [
    "Eval_RMSE = {'Model' : ['LSTM', 'POLY', 'ARIMA'],\n",
    "'RMSE very short term' : [RMSE_veryshort(inv_yhat, inv_y), RMSE_veryshort(poly_predictions, poly_data_label_low_poly[-500:]), RMSE_veryshort(ARIMA_precip, ARIMA_actual)],\n",
    "'RMSE short term' : [RMSE_short(inv_yhat, inv_y), RMSE_short(poly_predictions, poly_data_label_low_poly[-500:]), RMSE_short(ARIMA_precip, ARIMA_actual)],\n",
    "'RMSE mid term' : [RMSE_mid(inv_yhat, inv_y), RMSE_mid(poly_predictions, poly_data_label_low_poly[-500:]), RMSE_mid(ARIMA_precip, ARIMA_actual)],\n",
    "'RMSE long term' : [RMSE_long(inv_yhat, inv_y), RMSE_long(poly_predictions, poly_data_label_low_poly[-500:]), RMSE_long(ARIMA_precip, ARIMA_actual)]\n",
    "}\n",
    "\n",
    "df_eval = pd.DataFrame(Eval_RMSE)\n",
    "df_eval.style\n"
   ]
  },
  {
   "cell_type": "code",
   "execution_count": 86,
   "metadata": {},
   "outputs": [
    {
     "data": {
      "text/html": [
       "<style type=\"text/css\">\n",
       "</style>\n",
       "<table id=\"T_fa1f2\">\n",
       "  <thead>\n",
       "    <tr>\n",
       "      <th class=\"blank level0\" >&nbsp;</th>\n",
       "      <th id=\"T_fa1f2_level0_col0\" class=\"col_heading level0 col0\" >Model</th>\n",
       "      <th id=\"T_fa1f2_level0_col1\" class=\"col_heading level0 col1\" >R2 very short term</th>\n",
       "      <th id=\"T_fa1f2_level0_col2\" class=\"col_heading level0 col2\" >R2 short term</th>\n",
       "      <th id=\"T_fa1f2_level0_col3\" class=\"col_heading level0 col3\" >R2 mid term</th>\n",
       "      <th id=\"T_fa1f2_level0_col4\" class=\"col_heading level0 col4\" >R2 long term</th>\n",
       "    </tr>\n",
       "  </thead>\n",
       "  <tbody>\n",
       "    <tr>\n",
       "      <th id=\"T_fa1f2_level0_row0\" class=\"row_heading level0 row0\" >0</th>\n",
       "      <td id=\"T_fa1f2_row0_col0\" class=\"data row0 col0\" >LSTM</td>\n",
       "      <td id=\"T_fa1f2_row0_col1\" class=\"data row0 col1\" >-0.280086</td>\n",
       "      <td id=\"T_fa1f2_row0_col2\" class=\"data row0 col2\" >0.487440</td>\n",
       "      <td id=\"T_fa1f2_row0_col3\" class=\"data row0 col3\" >0.838701</td>\n",
       "      <td id=\"T_fa1f2_row0_col4\" class=\"data row0 col4\" >0.844100</td>\n",
       "    </tr>\n",
       "    <tr>\n",
       "      <th id=\"T_fa1f2_level0_row1\" class=\"row_heading level0 row1\" >1</th>\n",
       "      <td id=\"T_fa1f2_row1_col0\" class=\"data row1 col0\" >POLY</td>\n",
       "      <td id=\"T_fa1f2_row1_col1\" class=\"data row1 col1\" >1</td>\n",
       "      <td id=\"T_fa1f2_row1_col2\" class=\"data row1 col2\" >1</td>\n",
       "      <td id=\"T_fa1f2_row1_col3\" class=\"data row1 col3\" >1</td>\n",
       "      <td id=\"T_fa1f2_row1_col4\" class=\"data row1 col4\" >1</td>\n",
       "    </tr>\n",
       "    <tr>\n",
       "      <th id=\"T_fa1f2_level0_row2\" class=\"row_heading level0 row2\" >2</th>\n",
       "      <td id=\"T_fa1f2_row2_col0\" class=\"data row2 col0\" >ARIMA</td>\n",
       "      <td id=\"T_fa1f2_row2_col1\" class=\"data row2 col1\" >2</td>\n",
       "      <td id=\"T_fa1f2_row2_col2\" class=\"data row2 col2\" >2</td>\n",
       "      <td id=\"T_fa1f2_row2_col3\" class=\"data row2 col3\" >2</td>\n",
       "      <td id=\"T_fa1f2_row2_col4\" class=\"data row2 col4\" >2</td>\n",
       "    </tr>\n",
       "  </tbody>\n",
       "</table>\n"
      ],
      "text/plain": [
       "<pandas.io.formats.style.Styler at 0x29f900a6d90>"
      ]
     },
     "execution_count": 86,
     "metadata": {},
     "output_type": "execute_result"
    }
   ],
   "source": [
    "Eval_R2 = {'Model' : ['LSTM', 'POLY', 'ARIMA'],\n",
    "'R2 very short term' : [R2_veryshort(inv_yhat, inv_y), R2_veryshort(poly_predictions, poly_data_label_low_poly[-500:]), R2_veryshort(ARIMA_precip, ARIMA_actual)],\n",
    "'R2 short term' : [R2_short(inv_yhat, inv_y), R2_short(poly_predictions, poly_data_label_low_poly[-500:]), R2_short(ARIMA_precip, ARIMA_actual)],\n",
    "'R2 mid term' : [R2_mid(inv_yhat, inv_y), R2_mid(poly_predictions, poly_data_label_low_poly[-500:]), R2_mid(ARIMA_precip, ARIMA_actual)],\n",
    "'R2 long term' : [R2_long(inv_yhat, inv_y), R2_long(poly_predictions, poly_data_label_low_poly[-500:]), R2_long(ARIMA_precip, ARIMA_actual)]\n",
    "}\n",
    "\n",
    "df_eval = pd.DataFrame(Eval_R2)\n",
    "df_eval.style"
   ]
  }
 ],
 "metadata": {
  "kernelspec": {
   "display_name": "base",
   "language": "python",
   "name": "python3"
  },
  "language_info": {
   "codemirror_mode": {
    "name": "ipython",
    "version": 3
   },
   "file_extension": ".py",
   "mimetype": "text/x-python",
   "name": "python",
   "nbconvert_exporter": "python",
   "pygments_lexer": "ipython3",
   "version": "3.9.13"
  },
  "vscode": {
   "interpreter": {
    "hash": "ff024185575bcf3e52f311df7c73fe0d06a65af76d371a9e1814f9be31ac8a14"
   }
  }
 },
 "nbformat": 4,
 "nbformat_minor": 2
}
